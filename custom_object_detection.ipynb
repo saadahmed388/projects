{
  "cells": [
    {
      "cell_type": "markdown",
      "metadata": {
        "id": "view-in-github",
        "colab_type": "text"
      },
      "source": [
        "<a href=\"https://colab.research.google.com/github/saadahmed388/projects/blob/main/custom_object_detection.ipynb\" target=\"_parent\"><img src=\"https://colab.research.google.com/assets/colab-badge.svg\" alt=\"Open In Colab\"/></a>"
      ]
    },
    {
      "cell_type": "code",
      "source": [
        "from google.colab import drive\n",
        "drive.mount('/content/drive')\n"
      ],
      "metadata": {
        "colab": {
          "base_uri": "https://localhost:8080/"
        },
        "id": "hoaxE29-cSsg",
        "outputId": "025c39f6-c864-48bc-fcd7-5d2657b80fbd"
      },
      "execution_count": null,
      "outputs": [
        {
          "output_type": "stream",
          "name": "stdout",
          "text": [
            "Drive already mounted at /content/drive; to attempt to forcibly remount, call drive.mount(\"/content/drive\", force_remount=True).\n"
          ]
        }
      ]
    },
    {
      "cell_type": "code",
      "execution_count": null,
      "metadata": {
        "colab": {
          "base_uri": "https://localhost:8080/"
        },
        "id": "iaasJmlBy53R",
        "outputId": "a2b6e3dd-2176-46a0-b57e-b9bfaf9b4136"
      },
      "outputs": [
        {
          "output_type": "stream",
          "name": "stdout",
          "text": [
            "Looking in indexes: https://pypi.org/simple, https://us-python.pkg.dev/colab-wheels/public/simple/\n",
            "Requirement already satisfied: tensorflow-gpu==2.9.1 in /usr/local/lib/python3.7/dist-packages (2.9.1)\n",
            "Requirement already satisfied: tensorflow-io-gcs-filesystem>=0.23.1 in /usr/local/lib/python3.7/dist-packages (from tensorflow-gpu==2.9.1) (0.26.0)\n",
            "Requirement already satisfied: setuptools in /usr/local/lib/python3.7/dist-packages (from tensorflow-gpu==2.9.1) (57.4.0)\n",
            "Requirement already satisfied: opt-einsum>=2.3.2 in /usr/local/lib/python3.7/dist-packages (from tensorflow-gpu==2.9.1) (3.3.0)\n",
            "Requirement already satisfied: libclang>=13.0.0 in /usr/local/lib/python3.7/dist-packages (from tensorflow-gpu==2.9.1) (14.0.1)\n",
            "Requirement already satisfied: gast<=0.4.0,>=0.2.1 in /usr/local/lib/python3.7/dist-packages (from tensorflow-gpu==2.9.1) (0.4.0)\n",
            "Requirement already satisfied: keras<2.10.0,>=2.9.0rc0 in /usr/local/lib/python3.7/dist-packages (from tensorflow-gpu==2.9.1) (2.9.0)\n",
            "Requirement already satisfied: grpcio<2.0,>=1.24.3 in /usr/local/lib/python3.7/dist-packages (from tensorflow-gpu==2.9.1) (1.46.3)\n",
            "Requirement already satisfied: flatbuffers<2,>=1.12 in /usr/local/lib/python3.7/dist-packages (from tensorflow-gpu==2.9.1) (1.12)\n",
            "Requirement already satisfied: packaging in /usr/local/lib/python3.7/dist-packages (from tensorflow-gpu==2.9.1) (21.3)\n",
            "Requirement already satisfied: tensorboard<2.10,>=2.9 in /usr/local/lib/python3.7/dist-packages (from tensorflow-gpu==2.9.1) (2.9.1)\n",
            "Requirement already satisfied: tensorflow-estimator<2.10.0,>=2.9.0rc0 in /usr/local/lib/python3.7/dist-packages (from tensorflow-gpu==2.9.1) (2.9.0)\n",
            "Requirement already satisfied: numpy>=1.20 in /usr/local/lib/python3.7/dist-packages (from tensorflow-gpu==2.9.1) (1.21.6)\n",
            "Requirement already satisfied: h5py>=2.9.0 in /usr/local/lib/python3.7/dist-packages (from tensorflow-gpu==2.9.1) (3.1.0)\n",
            "Requirement already satisfied: wrapt>=1.11.0 in /usr/local/lib/python3.7/dist-packages (from tensorflow-gpu==2.9.1) (1.14.1)\n",
            "Requirement already satisfied: google-pasta>=0.1.1 in /usr/local/lib/python3.7/dist-packages (from tensorflow-gpu==2.9.1) (0.2.0)\n",
            "Requirement already satisfied: astunparse>=1.6.0 in /usr/local/lib/python3.7/dist-packages (from tensorflow-gpu==2.9.1) (1.6.3)\n",
            "Requirement already satisfied: termcolor>=1.1.0 in /usr/local/lib/python3.7/dist-packages (from tensorflow-gpu==2.9.1) (1.1.0)\n",
            "Requirement already satisfied: protobuf<3.20,>=3.9.2 in /usr/local/lib/python3.7/dist-packages (from tensorflow-gpu==2.9.1) (3.17.3)\n",
            "Requirement already satisfied: absl-py>=1.0.0 in /usr/local/lib/python3.7/dist-packages (from tensorflow-gpu==2.9.1) (1.1.0)\n",
            "Requirement already satisfied: keras-preprocessing>=1.1.1 in /usr/local/lib/python3.7/dist-packages (from tensorflow-gpu==2.9.1) (1.1.2)\n",
            "Requirement already satisfied: six>=1.12.0 in /usr/local/lib/python3.7/dist-packages (from tensorflow-gpu==2.9.1) (1.15.0)\n",
            "Requirement already satisfied: typing-extensions>=3.6.6 in /usr/local/lib/python3.7/dist-packages (from tensorflow-gpu==2.9.1) (4.1.1)\n",
            "Requirement already satisfied: wheel<1.0,>=0.23.0 in /usr/local/lib/python3.7/dist-packages (from astunparse>=1.6.0->tensorflow-gpu==2.9.1) (0.37.1)\n",
            "Requirement already satisfied: cached-property in /usr/local/lib/python3.7/dist-packages (from h5py>=2.9.0->tensorflow-gpu==2.9.1) (1.5.2)\n",
            "Requirement already satisfied: google-auth<3,>=1.6.3 in /usr/local/lib/python3.7/dist-packages (from tensorboard<2.10,>=2.9->tensorflow-gpu==2.9.1) (1.35.0)\n",
            "Requirement already satisfied: requests<3,>=2.21.0 in /usr/local/lib/python3.7/dist-packages (from tensorboard<2.10,>=2.9->tensorflow-gpu==2.9.1) (2.23.0)\n",
            "Requirement already satisfied: werkzeug>=1.0.1 in /usr/local/lib/python3.7/dist-packages (from tensorboard<2.10,>=2.9->tensorflow-gpu==2.9.1) (1.0.1)\n",
            "Requirement already satisfied: tensorboard-data-server<0.7.0,>=0.6.0 in /usr/local/lib/python3.7/dist-packages (from tensorboard<2.10,>=2.9->tensorflow-gpu==2.9.1) (0.6.1)\n",
            "Requirement already satisfied: markdown>=2.6.8 in /usr/local/lib/python3.7/dist-packages (from tensorboard<2.10,>=2.9->tensorflow-gpu==2.9.1) (3.3.7)\n",
            "Requirement already satisfied: google-auth-oauthlib<0.5,>=0.4.1 in /usr/local/lib/python3.7/dist-packages (from tensorboard<2.10,>=2.9->tensorflow-gpu==2.9.1) (0.4.6)\n",
            "Requirement already satisfied: tensorboard-plugin-wit>=1.6.0 in /usr/local/lib/python3.7/dist-packages (from tensorboard<2.10,>=2.9->tensorflow-gpu==2.9.1) (1.8.1)\n",
            "Requirement already satisfied: pyasn1-modules>=0.2.1 in /usr/local/lib/python3.7/dist-packages (from google-auth<3,>=1.6.3->tensorboard<2.10,>=2.9->tensorflow-gpu==2.9.1) (0.2.8)\n",
            "Requirement already satisfied: cachetools<5.0,>=2.0.0 in /usr/local/lib/python3.7/dist-packages (from google-auth<3,>=1.6.3->tensorboard<2.10,>=2.9->tensorflow-gpu==2.9.1) (4.2.4)\n",
            "Requirement already satisfied: rsa<5,>=3.1.4 in /usr/local/lib/python3.7/dist-packages (from google-auth<3,>=1.6.3->tensorboard<2.10,>=2.9->tensorflow-gpu==2.9.1) (4.8)\n",
            "Requirement already satisfied: requests-oauthlib>=0.7.0 in /usr/local/lib/python3.7/dist-packages (from google-auth-oauthlib<0.5,>=0.4.1->tensorboard<2.10,>=2.9->tensorflow-gpu==2.9.1) (1.3.1)\n",
            "Requirement already satisfied: importlib-metadata>=4.4 in /usr/local/lib/python3.7/dist-packages (from markdown>=2.6.8->tensorboard<2.10,>=2.9->tensorflow-gpu==2.9.1) (4.11.4)\n",
            "Requirement already satisfied: zipp>=0.5 in /usr/local/lib/python3.7/dist-packages (from importlib-metadata>=4.4->markdown>=2.6.8->tensorboard<2.10,>=2.9->tensorflow-gpu==2.9.1) (3.8.0)\n",
            "Requirement already satisfied: pyasn1<0.5.0,>=0.4.6 in /usr/local/lib/python3.7/dist-packages (from pyasn1-modules>=0.2.1->google-auth<3,>=1.6.3->tensorboard<2.10,>=2.9->tensorflow-gpu==2.9.1) (0.4.8)\n",
            "Requirement already satisfied: chardet<4,>=3.0.2 in /usr/local/lib/python3.7/dist-packages (from requests<3,>=2.21.0->tensorboard<2.10,>=2.9->tensorflow-gpu==2.9.1) (3.0.4)\n",
            "Requirement already satisfied: idna<3,>=2.5 in /usr/local/lib/python3.7/dist-packages (from requests<3,>=2.21.0->tensorboard<2.10,>=2.9->tensorflow-gpu==2.9.1) (2.10)\n",
            "Requirement already satisfied: certifi>=2017.4.17 in /usr/local/lib/python3.7/dist-packages (from requests<3,>=2.21.0->tensorboard<2.10,>=2.9->tensorflow-gpu==2.9.1) (2022.6.15)\n",
            "Requirement already satisfied: urllib3!=1.25.0,!=1.25.1,<1.26,>=1.21.1 in /usr/local/lib/python3.7/dist-packages (from requests<3,>=2.21.0->tensorboard<2.10,>=2.9->tensorflow-gpu==2.9.1) (1.24.3)\n",
            "Requirement already satisfied: oauthlib>=3.0.0 in /usr/local/lib/python3.7/dist-packages (from requests-oauthlib>=0.7.0->google-auth-oauthlib<0.5,>=0.4.1->tensorboard<2.10,>=2.9->tensorflow-gpu==2.9.1) (3.2.0)\n",
            "Requirement already satisfied: pyparsing!=3.0.5,>=2.0.2 in /usr/local/lib/python3.7/dist-packages (from packaging->tensorflow-gpu==2.9.1) (3.0.9)\n"
          ]
        }
      ],
      "source": [
        "!pip install tensorflow-gpu==2.9.1\n",
        "\n"
      ]
    },
    {
      "cell_type": "code",
      "source": [
        ""
      ],
      "metadata": {
        "id": "lP8f-FnAcQO7"
      },
      "execution_count": null,
      "outputs": []
    },
    {
      "cell_type": "code",
      "execution_count": null,
      "metadata": {
        "colab": {
          "base_uri": "https://localhost:8080/"
        },
        "id": "y6c8CKKuZsLW",
        "outputId": "655eb0f8-e075-49b4-d5aa-016a88e4b3e4"
      },
      "outputs": [
        {
          "output_type": "stream",
          "name": "stdout",
          "text": [
            "Reading package lists... Done\n",
            "Building dependency tree       \n",
            "Reading state information... Done\n",
            "The following package was automatically installed and is no longer required:\n",
            "  libnvidia-common-460\n",
            "Use 'apt autoremove' to remove it.\n",
            "The following additional packages will be installed:\n",
            "  libcudnn8-dev\n",
            "The following held packages will be changed:\n",
            "  libcudnn8\n",
            "The following packages will be upgraded:\n",
            "  libcudnn8 libcudnn8-dev\n",
            "2 upgraded, 0 newly installed, 0 to remove and 47 not upgraded.\n",
            "Need to get 867 MB of archives.\n",
            "After this operation, 1,867 MB disk space will be freed.\n",
            "Get:1 https://developer.download.nvidia.com/compute/cuda/repos/ubuntu1804/x86_64  libcudnn8-dev 8.4.1.50-1+cuda11.6 [447 MB]\n",
            "Get:2 https://developer.download.nvidia.com/compute/cuda/repos/ubuntu1804/x86_64  libcudnn8 8.4.1.50-1+cuda11.6 [420 MB]\n",
            "Fetched 867 MB in 14s (60.1 MB/s)\n",
            "(Reading database ... 155639 files and directories currently installed.)\n",
            "Preparing to unpack .../libcudnn8-dev_8.4.1.50-1+cuda11.6_amd64.deb ...\n",
            "Unpacking libcudnn8-dev (8.4.1.50-1+cuda11.6) over (8.0.5.39-1+cuda11.1) ...\n",
            "Preparing to unpack .../libcudnn8_8.4.1.50-1+cuda11.6_amd64.deb ...\n",
            "Unpacking libcudnn8 (8.4.1.50-1+cuda11.6) over (8.0.5.39-1+cuda11.1) ...\n",
            "Setting up libcudnn8 (8.4.1.50-1+cuda11.6) ...\n",
            "Setting up libcudnn8-dev (8.4.1.50-1+cuda11.6) ...\n",
            "update-alternatives: warning: forcing reinstallation of alternative /usr/include/x86_64-linux-gnu/cudnn_v7.h because link group libcudnn is broken\n",
            "update-alternatives: using /usr/include/x86_64-linux-gnu/cudnn_v8.h to provide /usr/include/cudnn.h (libcudnn) in manual mode\n"
          ]
        }
      ],
      "source": [
        "!apt install --allow-change-held-packages libcudnn8=8.4.1.50-1+cuda11.6"
      ]
    },
    {
      "cell_type": "code",
      "execution_count": null,
      "metadata": {
        "colab": {
          "base_uri": "https://localhost:8080/"
        },
        "id": "WrYmmI_KzqlC",
        "outputId": "e5b14b11-0637-4e1d-d54f-419d9ad157bb"
      },
      "outputs": [
        {
          "output_type": "stream",
          "name": "stdout",
          "text": [
            "2.9.1\n"
          ]
        }
      ],
      "source": [
        "import tensorflow as tf\n",
        "print(tf.__version__)"
      ]
    },
    {
      "cell_type": "code",
      "execution_count": null,
      "metadata": {
        "colab": {
          "base_uri": "https://localhost:8080/"
        },
        "id": "-5ScJOd20OEY",
        "outputId": "01f374d4-8ef4-430c-e434-b41c284e2f5e"
      },
      "outputs": [
        {
          "output_type": "stream",
          "name": "stdout",
          "text": [
            "Cloning into 'models'...\n",
            "remote: Enumerating objects: 74921, done.\u001b[K\n",
            "remote: Counting objects: 100% (409/409), done.\u001b[K\n",
            "remote: Compressing objects: 100% (250/250), done.\u001b[K\n",
            "remote: Total 74921 (delta 237), reused 288 (delta 154), pack-reused 74512\u001b[K\n",
            "Receiving objects: 100% (74921/74921), 580.51 MiB | 14.42 MiB/s, done.\n",
            "Resolving deltas: 100% (53107/53107), done.\n",
            "Checking out files: 100% (3087/3087), done.\n"
          ]
        }
      ],
      "source": [
        "!git clone https://github.com/tensorflow/models.git"
      ]
    },
    {
      "cell_type": "code",
      "execution_count": null,
      "metadata": {
        "colab": {
          "base_uri": "https://localhost:8080/",
          "height": 35
        },
        "id": "OZ1ite7W0bpK",
        "outputId": "5d27af58-778f-41db-b52b-f707cb332d9b"
      },
      "outputs": [
        {
          "output_type": "execute_result",
          "data": {
            "text/plain": [
              "'/content/drive/MyDrive'"
            ],
            "application/vnd.google.colaboratory.intrinsic+json": {
              "type": "string"
            }
          },
          "metadata": {},
          "execution_count": 22
        }
      ],
      "source": [
        "pwd\n"
      ]
    },
    {
      "cell_type": "code",
      "execution_count": null,
      "metadata": {
        "colab": {
          "base_uri": "https://localhost:8080/"
        },
        "id": "BWaKVX7JN8Ij",
        "outputId": "b003ae92-99d2-4bb4-e8ef-f0df7e6cec88"
      },
      "outputs": [
        {
          "output_type": "stream",
          "name": "stdout",
          "text": [
            "/content/models/research\n"
          ]
        }
      ],
      "source": [
        "cd /content/models/research"
      ]
    },
    {
      "cell_type": "code",
      "execution_count": null,
      "metadata": {
        "colab": {
          "base_uri": "https://localhost:8080/",
          "height": 35
        },
        "id": "w5pfvw8EOAbs",
        "outputId": "ab4475b8-76dd-4152-d7d5-8f80c1732936"
      },
      "outputs": [
        {
          "output_type": "execute_result",
          "data": {
            "text/plain": [
              "'/content/models/research'"
            ],
            "application/vnd.google.colaboratory.intrinsic+json": {
              "type": "string"
            }
          },
          "metadata": {},
          "execution_count": 27
        }
      ],
      "source": [
        "pwd\n"
      ]
    },
    {
      "cell_type": "code",
      "execution_count": null,
      "metadata": {
        "id": "S16sCHb4OBtJ"
      },
      "outputs": [],
      "source": [
        "!protoc object_detection/protos/*.proto --python_out=."
      ]
    },
    {
      "cell_type": "code",
      "execution_count": null,
      "metadata": {
        "colab": {
          "base_uri": "https://localhost:8080/"
        },
        "id": "N98diNYCONmZ",
        "outputId": "b8d7ce37-83dd-4d9f-843e-7519063bf190"
      },
      "outputs": [
        {
          "output_type": "stream",
          "name": "stdout",
          "text": [
            "fatal: destination path 'cocoapi' already exists and is not an empty directory.\n"
          ]
        }
      ],
      "source": [
        "!git clone https://github.com/cocodataset/cocoapi.git"
      ]
    },
    {
      "cell_type": "code",
      "execution_count": null,
      "metadata": {
        "colab": {
          "base_uri": "https://localhost:8080/"
        },
        "id": "XJhQGoaxOkCP",
        "outputId": "d9ec1866-ef76-4625-9826-3005dfea6121"
      },
      "outputs": [
        {
          "output_type": "stream",
          "name": "stdout",
          "text": [
            "/content/models/research/cocoapi/PythonAPI\n"
          ]
        }
      ],
      "source": [
        "cd cocoapi/PythonAPI\n"
      ]
    },
    {
      "cell_type": "code",
      "execution_count": null,
      "metadata": {
        "colab": {
          "base_uri": "https://localhost:8080/"
        },
        "id": "7Uhn3FF2OsVT",
        "outputId": "205bd3f9-2d43-45f6-ebcb-1ac83da5333f"
      },
      "outputs": [
        {
          "output_type": "stream",
          "name": "stdout",
          "text": [
            "python setup.py build_ext --inplace\n",
            "running build_ext\n",
            "skipping 'pycocotools/_mask.c' Cython extension (up-to-date)\n",
            "building 'pycocotools._mask' extension\n",
            "creating build\n",
            "creating build/common\n",
            "creating build/temp.linux-x86_64-3.7\n",
            "creating build/temp.linux-x86_64-3.7/pycocotools\n",
            "x86_64-linux-gnu-gcc -pthread -Wno-unused-result -Wsign-compare -DNDEBUG -g -fwrapv -O2 -Wall -g -fstack-protector-strong -Wformat -Werror=format-security -g -fwrapv -O2 -g -fstack-protector-strong -Wformat -Werror=format-security -Wdate-time -D_FORTIFY_SOURCE=2 -fPIC -I/usr/local/lib/python3.7/dist-packages/numpy/core/include -I../common -I/usr/include/python3.7m -c ../common/maskApi.c -o build/temp.linux-x86_64-3.7/../common/maskApi.o -Wno-cpp -Wno-unused-function -std=c99\n",
            "\u001b[01m\u001b[K../common/maskApi.c:\u001b[m\u001b[K In function ‘\u001b[01m\u001b[KrleDecode\u001b[m\u001b[K’:\n",
            "\u001b[01m\u001b[K../common/maskApi.c:46:7:\u001b[m\u001b[K \u001b[01;35m\u001b[Kwarning: \u001b[m\u001b[Kthis ‘\u001b[01m\u001b[Kfor\u001b[m\u001b[K’ clause does not guard... [\u001b[01;35m\u001b[K-Wmisleading-indentation\u001b[m\u001b[K]\n",
            "       \u001b[01;35m\u001b[Kfor\u001b[m\u001b[K( k=0; k<R[i].cnts[j]; k++ ) *(M++)=v; v=!v; }}\n",
            "       \u001b[01;35m\u001b[K^~~\u001b[m\u001b[K\n",
            "\u001b[01m\u001b[K../common/maskApi.c:46:49:\u001b[m\u001b[K \u001b[01;36m\u001b[Knote: \u001b[m\u001b[K...this statement, but the latter is misleadingly indented as if it were guarded by the ‘\u001b[01m\u001b[Kfor\u001b[m\u001b[K’\n",
            "       for( k=0; k<R[i].cnts[j]; k++ ) *(M++)=v; \u001b[01;36m\u001b[Kv\u001b[m\u001b[K=!v; }}\n",
            "                                                 \u001b[01;36m\u001b[K^\u001b[m\u001b[K\n",
            "\u001b[01m\u001b[K../common/maskApi.c:\u001b[m\u001b[K In function ‘\u001b[01m\u001b[KrleFrPoly\u001b[m\u001b[K’:\n",
            "\u001b[01m\u001b[K../common/maskApi.c:166:3:\u001b[m\u001b[K \u001b[01;35m\u001b[Kwarning: \u001b[m\u001b[Kthis ‘\u001b[01m\u001b[Kfor\u001b[m\u001b[K’ clause does not guard... [\u001b[01;35m\u001b[K-Wmisleading-indentation\u001b[m\u001b[K]\n",
            "   \u001b[01;35m\u001b[Kfor\u001b[m\u001b[K(j=0; j<k; j++) x[j]=(int)(scale*xy[j*2+0]+.5); x[k]=x[0];\n",
            "   \u001b[01;35m\u001b[K^~~\u001b[m\u001b[K\n",
            "\u001b[01m\u001b[K../common/maskApi.c:166:54:\u001b[m\u001b[K \u001b[01;36m\u001b[Knote: \u001b[m\u001b[K...this statement, but the latter is misleadingly indented as if it were guarded by the ‘\u001b[01m\u001b[Kfor\u001b[m\u001b[K’\n",
            "   for(j=0; j<k; j++) x[j]=(int)(scale*xy[j*2+0]+.5); \u001b[01;36m\u001b[Kx\u001b[m\u001b[K[k]=x[0];\n",
            "                                                      \u001b[01;36m\u001b[K^\u001b[m\u001b[K\n",
            "\u001b[01m\u001b[K../common/maskApi.c:167:3:\u001b[m\u001b[K \u001b[01;35m\u001b[Kwarning: \u001b[m\u001b[Kthis ‘\u001b[01m\u001b[Kfor\u001b[m\u001b[K’ clause does not guard... [\u001b[01;35m\u001b[K-Wmisleading-indentation\u001b[m\u001b[K]\n",
            "   \u001b[01;35m\u001b[Kfor\u001b[m\u001b[K(j=0; j<k; j++) y[j]=(int)(scale*xy[j*2+1]+.5); y[k]=y[0];\n",
            "   \u001b[01;35m\u001b[K^~~\u001b[m\u001b[K\n",
            "\u001b[01m\u001b[K../common/maskApi.c:167:54:\u001b[m\u001b[K \u001b[01;36m\u001b[Knote: \u001b[m\u001b[K...this statement, but the latter is misleadingly indented as if it were guarded by the ‘\u001b[01m\u001b[Kfor\u001b[m\u001b[K’\n",
            "   for(j=0; j<k; j++) y[j]=(int)(scale*xy[j*2+1]+.5); \u001b[01;36m\u001b[Ky\u001b[m\u001b[K[k]=y[0];\n",
            "                                                      \u001b[01;36m\u001b[K^\u001b[m\u001b[K\n",
            "\u001b[01m\u001b[K../common/maskApi.c:\u001b[m\u001b[K In function ‘\u001b[01m\u001b[KrleToString\u001b[m\u001b[K’:\n",
            "\u001b[01m\u001b[K../common/maskApi.c:212:7:\u001b[m\u001b[K \u001b[01;35m\u001b[Kwarning: \u001b[m\u001b[Kthis ‘\u001b[01m\u001b[Kif\u001b[m\u001b[K’ clause does not guard... [\u001b[01;35m\u001b[K-Wmisleading-indentation\u001b[m\u001b[K]\n",
            "       \u001b[01;35m\u001b[Kif\u001b[m\u001b[K(more) c |= 0x20; c+=48; s[p++]=c;\n",
            "       \u001b[01;35m\u001b[K^~\u001b[m\u001b[K\n",
            "\u001b[01m\u001b[K../common/maskApi.c:212:27:\u001b[m\u001b[K \u001b[01;36m\u001b[Knote: \u001b[m\u001b[K...this statement, but the latter is misleadingly indented as if it were guarded by the ‘\u001b[01m\u001b[Kif\u001b[m\u001b[K’\n",
            "       if(more) c |= 0x20; \u001b[01;36m\u001b[Kc\u001b[m\u001b[K+=48; s[p++]=c;\n",
            "                           \u001b[01;36m\u001b[K^\u001b[m\u001b[K\n",
            "\u001b[01m\u001b[K../common/maskApi.c:\u001b[m\u001b[K In function ‘\u001b[01m\u001b[KrleFrString\u001b[m\u001b[K’:\n",
            "\u001b[01m\u001b[K../common/maskApi.c:220:3:\u001b[m\u001b[K \u001b[01;35m\u001b[Kwarning: \u001b[m\u001b[Kthis ‘\u001b[01m\u001b[Kwhile\u001b[m\u001b[K’ clause does not guard... [\u001b[01;35m\u001b[K-Wmisleading-indentation\u001b[m\u001b[K]\n",
            "   \u001b[01;35m\u001b[Kwhile\u001b[m\u001b[K( s[m] ) m++; cnts=malloc(sizeof(uint)*m); m=0;\n",
            "   \u001b[01;35m\u001b[K^~~~~\u001b[m\u001b[K\n",
            "\u001b[01m\u001b[K../common/maskApi.c:220:22:\u001b[m\u001b[K \u001b[01;36m\u001b[Knote: \u001b[m\u001b[K...this statement, but the latter is misleadingly indented as if it were guarded by the ‘\u001b[01m\u001b[Kwhile\u001b[m\u001b[K’\n",
            "   while( s[m] ) m++; \u001b[01;36m\u001b[Kcnts\u001b[m\u001b[K=malloc(sizeof(uint)*m); m=0;\n",
            "                      \u001b[01;36m\u001b[K^~~~\u001b[m\u001b[K\n",
            "\u001b[01m\u001b[K../common/maskApi.c:228:5:\u001b[m\u001b[K \u001b[01;35m\u001b[Kwarning: \u001b[m\u001b[Kthis ‘\u001b[01m\u001b[Kif\u001b[m\u001b[K’ clause does not guard... [\u001b[01;35m\u001b[K-Wmisleading-indentation\u001b[m\u001b[K]\n",
            "     \u001b[01;35m\u001b[Kif\u001b[m\u001b[K(m>2) x+=(long) cnts[m-2]; cnts[m++]=(uint) x;\n",
            "     \u001b[01;35m\u001b[K^~\u001b[m\u001b[K\n",
            "\u001b[01m\u001b[K../common/maskApi.c:228:34:\u001b[m\u001b[K \u001b[01;36m\u001b[Knote: \u001b[m\u001b[K...this statement, but the latter is misleadingly indented as if it were guarded by the ‘\u001b[01m\u001b[Kif\u001b[m\u001b[K’\n",
            "     if(m>2) x+=(long) cnts[m-2]; \u001b[01;36m\u001b[Kcnts\u001b[m\u001b[K[m++]=(uint) x;\n",
            "                                  \u001b[01;36m\u001b[K^~~~\u001b[m\u001b[K\n",
            "\u001b[01m\u001b[K../common/maskApi.c:\u001b[m\u001b[K In function ‘\u001b[01m\u001b[KrleToBbox\u001b[m\u001b[K’:\n",
            "\u001b[01m\u001b[K../common/maskApi.c:141:31:\u001b[m\u001b[K \u001b[01;35m\u001b[Kwarning: \u001b[m\u001b[K‘\u001b[01m\u001b[Kxp\u001b[m\u001b[K’ may be used uninitialized in this function [\u001b[01;35m\u001b[K-Wmaybe-uninitialized\u001b[m\u001b[K]\n",
            "       if(j%2==0) xp=x; else if\u001b[01;35m\u001b[K(\u001b[m\u001b[Kxp<x) { ys=0; ye=h-1; }\n",
            "                               \u001b[01;35m\u001b[K^\u001b[m\u001b[K\n",
            "x86_64-linux-gnu-gcc -pthread -Wno-unused-result -Wsign-compare -DNDEBUG -g -fwrapv -O2 -Wall -g -fstack-protector-strong -Wformat -Werror=format-security -g -fwrapv -O2 -g -fstack-protector-strong -Wformat -Werror=format-security -Wdate-time -D_FORTIFY_SOURCE=2 -fPIC -I/usr/local/lib/python3.7/dist-packages/numpy/core/include -I../common -I/usr/include/python3.7m -c pycocotools/_mask.c -o build/temp.linux-x86_64-3.7/pycocotools/_mask.o -Wno-cpp -Wno-unused-function -std=c99\n",
            "creating build/lib.linux-x86_64-3.7\n",
            "creating build/lib.linux-x86_64-3.7/pycocotools\n",
            "x86_64-linux-gnu-gcc -pthread -shared -Wl,-O1 -Wl,-Bsymbolic-functions -Wl,-Bsymbolic-functions -g -fwrapv -O2 -Wl,-Bsymbolic-functions -g -fwrapv -O2 -g -fstack-protector-strong -Wformat -Werror=format-security -Wdate-time -D_FORTIFY_SOURCE=2 build/temp.linux-x86_64-3.7/../common/maskApi.o build/temp.linux-x86_64-3.7/pycocotools/_mask.o -o build/lib.linux-x86_64-3.7/pycocotools/_mask.cpython-37m-x86_64-linux-gnu.so\n",
            "copying build/lib.linux-x86_64-3.7/pycocotools/_mask.cpython-37m-x86_64-linux-gnu.so -> pycocotools\n",
            "rm -rf build\n"
          ]
        }
      ],
      "source": [
        "!make"
      ]
    },
    {
      "cell_type": "code",
      "execution_count": null,
      "metadata": {
        "id": "SAwfdxyvOw9P"
      },
      "outputs": [],
      "source": [
        "cp -r pycocotools /content/models/research\n"
      ]
    },
    {
      "cell_type": "code",
      "execution_count": null,
      "metadata": {
        "colab": {
          "base_uri": "https://localhost:8080/"
        },
        "id": "GuG0PuI2O76M",
        "outputId": "1c92ae08-1c7f-4d34-cf06-abbb26094c2a"
      },
      "outputs": [
        {
          "output_type": "stream",
          "name": "stdout",
          "text": [
            "/content/models/research/cocoapi\n"
          ]
        }
      ],
      "source": [
        "cd .."
      ]
    },
    {
      "cell_type": "code",
      "execution_count": null,
      "metadata": {
        "colab": {
          "base_uri": "https://localhost:8080/"
        },
        "id": "p4PtZmHTPTiz",
        "outputId": "4b1a8665-27af-4479-da49-ee8aa86d6411"
      },
      "outputs": [
        {
          "output_type": "stream",
          "name": "stdout",
          "text": [
            "/content/models/research\n"
          ]
        }
      ],
      "source": [
        "cd .."
      ]
    },
    {
      "cell_type": "code",
      "execution_count": null,
      "metadata": {
        "id": "cuJzmBonPUYe"
      },
      "outputs": [],
      "source": [
        "cp object_detection/packages/tf2/setup.py .\n"
      ]
    },
    {
      "cell_type": "code",
      "execution_count": null,
      "metadata": {
        "colab": {
          "base_uri": "https://localhost:8080/"
        },
        "id": "uxmNRGrLPhQ8",
        "outputId": "a10591ef-3a9f-46e7-801c-03200a15d625"
      },
      "outputs": [
        {
          "output_type": "stream",
          "name": "stdout",
          "text": [
            "\u001b[33mWARNING: --use-feature=2020-resolver no longer has any effect, since it is now the default dependency resolver in pip. This will become an error in pip 21.0.\u001b[0m\n",
            "Looking in indexes: https://pypi.org/simple, https://us-python.pkg.dev/colab-wheels/public/simple/\n",
            "Processing /content/models/research\n",
            "\u001b[33m  DEPRECATION: A future pip version will change local packages to be built in-place without first copying to a temporary directory. We recommend you use --use-feature=in-tree-build to test your packages with this new behavior before it becomes the default.\n",
            "   pip 21.3 will remove support for this functionality. You can find discussion regarding this at https://github.com/pypa/pip/issues/7555.\u001b[0m\n",
            "Collecting avro-python3\n",
            "  Downloading avro-python3-1.10.2.tar.gz (38 kB)\n",
            "Collecting apache-beam\n",
            "  Downloading apache_beam-2.40.0-cp37-cp37m-manylinux2010_x86_64.whl (10.9 MB)\n",
            "\u001b[K     |████████████████████████████████| 10.9 MB 9.0 MB/s \n",
            "\u001b[?25hRequirement already satisfied: pillow in /usr/local/lib/python3.7/dist-packages (from object-detection==0.1) (7.1.2)\n",
            "Requirement already satisfied: lxml in /usr/local/lib/python3.7/dist-packages (from object-detection==0.1) (4.2.6)\n",
            "Requirement already satisfied: matplotlib in /usr/local/lib/python3.7/dist-packages (from object-detection==0.1) (3.2.2)\n",
            "Requirement already satisfied: Cython in /usr/local/lib/python3.7/dist-packages (from object-detection==0.1) (0.29.30)\n",
            "Requirement already satisfied: contextlib2 in /usr/local/lib/python3.7/dist-packages (from object-detection==0.1) (0.5.5)\n",
            "Collecting tf-slim\n",
            "  Downloading tf_slim-1.1.0-py2.py3-none-any.whl (352 kB)\n",
            "\u001b[K     |████████████████████████████████| 352 kB 61.1 MB/s \n",
            "\u001b[?25hRequirement already satisfied: six in /usr/local/lib/python3.7/dist-packages (from object-detection==0.1) (1.15.0)\n",
            "Requirement already satisfied: pycocotools in /usr/local/lib/python3.7/dist-packages (from object-detection==0.1) (2.0.4)\n",
            "Collecting lvis\n",
            "  Downloading lvis-0.5.3-py3-none-any.whl (14 kB)\n",
            "Requirement already satisfied: scipy in /usr/local/lib/python3.7/dist-packages (from object-detection==0.1) (1.4.1)\n",
            "Requirement already satisfied: pandas in /usr/local/lib/python3.7/dist-packages (from object-detection==0.1) (1.3.5)\n",
            "Collecting tf-models-official>=2.5.1\n",
            "  Downloading tf_models_official-2.9.2-py2.py3-none-any.whl (2.1 MB)\n",
            "\u001b[K     |████████████████████████████████| 2.1 MB 55.5 MB/s \n",
            "\u001b[?25hCollecting tensorflow_io\n",
            "  Downloading tensorflow_io-0.26.0-cp37-cp37m-manylinux_2_12_x86_64.manylinux2010_x86_64.whl (25.9 MB)\n",
            "\u001b[K     |████████████████████████████████| 25.9 MB 1.4 MB/s \n",
            "\u001b[?25hRequirement already satisfied: keras in /usr/local/lib/python3.7/dist-packages (from object-detection==0.1) (2.9.0)\n",
            "Collecting pyparsing==2.4.7\n",
            "  Downloading pyparsing-2.4.7-py2.py3-none-any.whl (67 kB)\n",
            "\u001b[K     |████████████████████████████████| 67 kB 6.8 MB/s \n",
            "\u001b[?25hRequirement already satisfied: tensorflow-datasets in /usr/local/lib/python3.7/dist-packages (from tf-models-official>=2.5.1->object-detection==0.1) (4.0.1)\n",
            "Requirement already satisfied: google-api-python-client>=1.6.7 in /usr/local/lib/python3.7/dist-packages (from tf-models-official>=2.5.1->object-detection==0.1) (1.12.11)\n",
            "Requirement already satisfied: oauth2client in /usr/local/lib/python3.7/dist-packages (from tf-models-official>=2.5.1->object-detection==0.1) (4.1.3)\n",
            "Requirement already satisfied: kaggle>=1.3.9 in /usr/local/lib/python3.7/dist-packages (from tf-models-official>=2.5.1->object-detection==0.1) (1.5.12)\n",
            "Collecting tensorflow-text~=2.9.0\n",
            "  Downloading tensorflow_text-2.9.0-cp37-cp37m-manylinux_2_17_x86_64.manylinux2014_x86_64.whl (4.6 MB)\n",
            "\u001b[K     |████████████████████████████████| 4.6 MB 38.5 MB/s \n",
            "\u001b[?25hCollecting seqeval\n",
            "  Downloading seqeval-1.2.2.tar.gz (43 kB)\n",
            "\u001b[K     |████████████████████████████████| 43 kB 1.5 MB/s \n",
            "\u001b[?25hCollecting tensorflow~=2.9.0\n",
            "  Downloading tensorflow-2.9.1-cp37-cp37m-manylinux_2_17_x86_64.manylinux2014_x86_64.whl (511.7 MB)\n",
            "\u001b[K     |████████████████████████████████| 511.7 MB 3.8 kB/s \n",
            "\u001b[?25hCollecting opencv-python-headless\n",
            "  Downloading opencv_python_headless-4.6.0.66-cp36-abi3-manylinux_2_17_x86_64.manylinux2014_x86_64.whl (48.3 MB)\n",
            "\u001b[K     |████████████████████████████████| 48.3 MB 1.9 MB/s \n",
            "\u001b[?25hCollecting py-cpuinfo>=3.3.0\n",
            "  Downloading py-cpuinfo-8.0.0.tar.gz (99 kB)\n",
            "\u001b[K     |████████████████████████████████| 99 kB 10.5 MB/s \n",
            "\u001b[?25hCollecting tensorflow-addons\n",
            "  Downloading tensorflow_addons-0.17.1-cp37-cp37m-manylinux_2_17_x86_64.manylinux2014_x86_64.whl (1.1 MB)\n",
            "\u001b[K     |████████████████████████████████| 1.1 MB 49.5 MB/s \n",
            "\u001b[?25hCollecting sacrebleu\n",
            "  Downloading sacrebleu-2.1.0-py3-none-any.whl (92 kB)\n",
            "\u001b[K     |████████████████████████████████| 92 kB 10.8 MB/s \n",
            "\u001b[?25hRequirement already satisfied: numpy>=1.20 in /usr/local/lib/python3.7/dist-packages (from tf-models-official>=2.5.1->object-detection==0.1) (1.21.6)\n",
            "Collecting tensorflow-model-optimization>=0.4.1\n",
            "  Downloading tensorflow_model_optimization-0.7.2-py2.py3-none-any.whl (237 kB)\n",
            "\u001b[K     |████████████████████████████████| 237 kB 74.9 MB/s \n",
            "\u001b[?25hRequirement already satisfied: tensorflow-hub>=0.6.0 in /usr/local/lib/python3.7/dist-packages (from tf-models-official>=2.5.1->object-detection==0.1) (0.12.0)\n",
            "Collecting pyyaml<6.0,>=5.1\n",
            "  Downloading PyYAML-5.4.1-cp37-cp37m-manylinux1_x86_64.whl (636 kB)\n",
            "\u001b[K     |████████████████████████████████| 636 kB 68.8 MB/s \n",
            "\u001b[?25hRequirement already satisfied: psutil>=5.4.3 in /usr/local/lib/python3.7/dist-packages (from tf-models-official>=2.5.1->object-detection==0.1) (5.4.8)\n",
            "Requirement already satisfied: gin-config in /usr/local/lib/python3.7/dist-packages (from tf-models-official>=2.5.1->object-detection==0.1) (0.5.0)\n",
            "Collecting sentencepiece\n",
            "  Downloading sentencepiece-0.1.96-cp37-cp37m-manylinux_2_17_x86_64.manylinux2014_x86_64.whl (1.2 MB)\n",
            "\u001b[K     |████████████████████████████████| 1.2 MB 55.0 MB/s \n",
            "\u001b[?25hRequirement already satisfied: google-api-core<3dev,>=1.21.0 in /usr/local/lib/python3.7/dist-packages (from google-api-python-client>=1.6.7->tf-models-official>=2.5.1->object-detection==0.1) (1.31.6)\n",
            "Requirement already satisfied: google-auth<3dev,>=1.16.0 in /usr/local/lib/python3.7/dist-packages (from google-api-python-client>=1.6.7->tf-models-official>=2.5.1->object-detection==0.1) (1.35.0)\n",
            "Requirement already satisfied: google-auth-httplib2>=0.0.3 in /usr/local/lib/python3.7/dist-packages (from google-api-python-client>=1.6.7->tf-models-official>=2.5.1->object-detection==0.1) (0.0.4)\n",
            "Requirement already satisfied: httplib2<1dev,>=0.15.0 in /usr/local/lib/python3.7/dist-packages (from google-api-python-client>=1.6.7->tf-models-official>=2.5.1->object-detection==0.1) (0.17.4)\n",
            "Requirement already satisfied: uritemplate<4dev,>=3.0.0 in /usr/local/lib/python3.7/dist-packages (from google-api-python-client>=1.6.7->tf-models-official>=2.5.1->object-detection==0.1) (3.0.1)\n",
            "Requirement already satisfied: setuptools>=40.3.0 in /usr/local/lib/python3.7/dist-packages (from google-api-core<3dev,>=1.21.0->google-api-python-client>=1.6.7->tf-models-official>=2.5.1->object-detection==0.1) (57.4.0)\n",
            "Requirement already satisfied: googleapis-common-protos<2.0dev,>=1.6.0 in /usr/local/lib/python3.7/dist-packages (from google-api-core<3dev,>=1.21.0->google-api-python-client>=1.6.7->tf-models-official>=2.5.1->object-detection==0.1) (1.56.2)\n",
            "Requirement already satisfied: protobuf<4.0.0dev,>=3.12.0 in /usr/local/lib/python3.7/dist-packages (from google-api-core<3dev,>=1.21.0->google-api-python-client>=1.6.7->tf-models-official>=2.5.1->object-detection==0.1) (3.17.3)\n",
            "Requirement already satisfied: pytz in /usr/local/lib/python3.7/dist-packages (from google-api-core<3dev,>=1.21.0->google-api-python-client>=1.6.7->tf-models-official>=2.5.1->object-detection==0.1) (2022.1)\n",
            "Requirement already satisfied: requests<3.0.0dev,>=2.18.0 in /usr/local/lib/python3.7/dist-packages (from google-api-core<3dev,>=1.21.0->google-api-python-client>=1.6.7->tf-models-official>=2.5.1->object-detection==0.1) (2.23.0)\n",
            "Requirement already satisfied: packaging>=14.3 in /usr/local/lib/python3.7/dist-packages (from google-api-core<3dev,>=1.21.0->google-api-python-client>=1.6.7->tf-models-official>=2.5.1->object-detection==0.1) (21.3)\n",
            "Requirement already satisfied: cachetools<5.0,>=2.0.0 in /usr/local/lib/python3.7/dist-packages (from google-auth<3dev,>=1.16.0->google-api-python-client>=1.6.7->tf-models-official>=2.5.1->object-detection==0.1) (4.2.4)\n",
            "Requirement already satisfied: rsa<5,>=3.1.4 in /usr/local/lib/python3.7/dist-packages (from google-auth<3dev,>=1.16.0->google-api-python-client>=1.6.7->tf-models-official>=2.5.1->object-detection==0.1) (4.8)\n",
            "Requirement already satisfied: pyasn1-modules>=0.2.1 in /usr/local/lib/python3.7/dist-packages (from google-auth<3dev,>=1.16.0->google-api-python-client>=1.6.7->tf-models-official>=2.5.1->object-detection==0.1) (0.2.8)\n",
            "Requirement already satisfied: python-slugify in /usr/local/lib/python3.7/dist-packages (from kaggle>=1.3.9->tf-models-official>=2.5.1->object-detection==0.1) (6.1.2)\n",
            "Requirement already satisfied: urllib3 in /usr/local/lib/python3.7/dist-packages (from kaggle>=1.3.9->tf-models-official>=2.5.1->object-detection==0.1) (1.24.3)\n",
            "Requirement already satisfied: certifi in /usr/local/lib/python3.7/dist-packages (from kaggle>=1.3.9->tf-models-official>=2.5.1->object-detection==0.1) (2022.6.15)\n",
            "Requirement already satisfied: tqdm in /usr/local/lib/python3.7/dist-packages (from kaggle>=1.3.9->tf-models-official>=2.5.1->object-detection==0.1) (4.64.0)\n",
            "Requirement already satisfied: python-dateutil in /usr/local/lib/python3.7/dist-packages (from kaggle>=1.3.9->tf-models-official>=2.5.1->object-detection==0.1) (2.8.2)\n",
            "Requirement already satisfied: pyasn1<0.5.0,>=0.4.6 in /usr/local/lib/python3.7/dist-packages (from pyasn1-modules>=0.2.1->google-auth<3dev,>=1.16.0->google-api-python-client>=1.6.7->tf-models-official>=2.5.1->object-detection==0.1) (0.4.8)\n",
            "Requirement already satisfied: chardet<4,>=3.0.2 in /usr/local/lib/python3.7/dist-packages (from requests<3.0.0dev,>=2.18.0->google-api-core<3dev,>=1.21.0->google-api-python-client>=1.6.7->tf-models-official>=2.5.1->object-detection==0.1) (3.0.4)\n",
            "Requirement already satisfied: idna<3,>=2.5 in /usr/local/lib/python3.7/dist-packages (from requests<3.0.0dev,>=2.18.0->google-api-core<3dev,>=1.21.0->google-api-python-client>=1.6.7->tf-models-official>=2.5.1->object-detection==0.1) (2.10)\n",
            "Requirement already satisfied: libclang>=13.0.0 in /usr/local/lib/python3.7/dist-packages (from tensorflow~=2.9.0->tf-models-official>=2.5.1->object-detection==0.1) (14.0.1)\n",
            "Requirement already satisfied: wrapt>=1.11.0 in /usr/local/lib/python3.7/dist-packages (from tensorflow~=2.9.0->tf-models-official>=2.5.1->object-detection==0.1) (1.14.1)\n",
            "Requirement already satisfied: tensorflow-estimator<2.10.0,>=2.9.0rc0 in /usr/local/lib/python3.7/dist-packages (from tensorflow~=2.9.0->tf-models-official>=2.5.1->object-detection==0.1) (2.9.0)\n",
            "Requirement already satisfied: tensorflow-io-gcs-filesystem>=0.23.1 in /usr/local/lib/python3.7/dist-packages (from tensorflow~=2.9.0->tf-models-official>=2.5.1->object-detection==0.1) (0.26.0)\n",
            "Requirement already satisfied: absl-py>=1.0.0 in /usr/local/lib/python3.7/dist-packages (from tensorflow~=2.9.0->tf-models-official>=2.5.1->object-detection==0.1) (1.1.0)\n",
            "Requirement already satisfied: termcolor>=1.1.0 in /usr/local/lib/python3.7/dist-packages (from tensorflow~=2.9.0->tf-models-official>=2.5.1->object-detection==0.1) (1.1.0)\n",
            "Requirement already satisfied: keras-preprocessing>=1.1.1 in /usr/local/lib/python3.7/dist-packages (from tensorflow~=2.9.0->tf-models-official>=2.5.1->object-detection==0.1) (1.1.2)\n",
            "Requirement already satisfied: google-pasta>=0.1.1 in /usr/local/lib/python3.7/dist-packages (from tensorflow~=2.9.0->tf-models-official>=2.5.1->object-detection==0.1) (0.2.0)\n",
            "Requirement already satisfied: opt-einsum>=2.3.2 in /usr/local/lib/python3.7/dist-packages (from tensorflow~=2.9.0->tf-models-official>=2.5.1->object-detection==0.1) (3.3.0)\n",
            "Requirement already satisfied: grpcio<2.0,>=1.24.3 in /usr/local/lib/python3.7/dist-packages (from tensorflow~=2.9.0->tf-models-official>=2.5.1->object-detection==0.1) (1.46.3)\n",
            "Requirement already satisfied: h5py>=2.9.0 in /usr/local/lib/python3.7/dist-packages (from tensorflow~=2.9.0->tf-models-official>=2.5.1->object-detection==0.1) (3.1.0)\n",
            "Requirement already satisfied: gast<=0.4.0,>=0.2.1 in /usr/local/lib/python3.7/dist-packages (from tensorflow~=2.9.0->tf-models-official>=2.5.1->object-detection==0.1) (0.4.0)\n",
            "Requirement already satisfied: typing-extensions>=3.6.6 in /usr/local/lib/python3.7/dist-packages (from tensorflow~=2.9.0->tf-models-official>=2.5.1->object-detection==0.1) (4.1.1)\n",
            "Requirement already satisfied: flatbuffers<2,>=1.12 in /usr/local/lib/python3.7/dist-packages (from tensorflow~=2.9.0->tf-models-official>=2.5.1->object-detection==0.1) (1.12)\n",
            "Requirement already satisfied: astunparse>=1.6.0 in /usr/local/lib/python3.7/dist-packages (from tensorflow~=2.9.0->tf-models-official>=2.5.1->object-detection==0.1) (1.6.3)\n",
            "Requirement already satisfied: tensorboard<2.10,>=2.9 in /usr/local/lib/python3.7/dist-packages (from tensorflow~=2.9.0->tf-models-official>=2.5.1->object-detection==0.1) (2.9.1)\n",
            "Requirement already satisfied: wheel<1.0,>=0.23.0 in /usr/local/lib/python3.7/dist-packages (from astunparse>=1.6.0->tensorflow~=2.9.0->tf-models-official>=2.5.1->object-detection==0.1) (0.37.1)\n",
            "Requirement already satisfied: cached-property in /usr/local/lib/python3.7/dist-packages (from h5py>=2.9.0->tensorflow~=2.9.0->tf-models-official>=2.5.1->object-detection==0.1) (1.5.2)\n",
            "Requirement already satisfied: tensorboard-data-server<0.7.0,>=0.6.0 in /usr/local/lib/python3.7/dist-packages (from tensorboard<2.10,>=2.9->tensorflow~=2.9.0->tf-models-official>=2.5.1->object-detection==0.1) (0.6.1)\n",
            "Requirement already satisfied: tensorboard-plugin-wit>=1.6.0 in /usr/local/lib/python3.7/dist-packages (from tensorboard<2.10,>=2.9->tensorflow~=2.9.0->tf-models-official>=2.5.1->object-detection==0.1) (1.8.1)\n",
            "Requirement already satisfied: markdown>=2.6.8 in /usr/local/lib/python3.7/dist-packages (from tensorboard<2.10,>=2.9->tensorflow~=2.9.0->tf-models-official>=2.5.1->object-detection==0.1) (3.3.7)\n",
            "Requirement already satisfied: google-auth-oauthlib<0.5,>=0.4.1 in /usr/local/lib/python3.7/dist-packages (from tensorboard<2.10,>=2.9->tensorflow~=2.9.0->tf-models-official>=2.5.1->object-detection==0.1) (0.4.6)\n",
            "Requirement already satisfied: werkzeug>=1.0.1 in /usr/local/lib/python3.7/dist-packages (from tensorboard<2.10,>=2.9->tensorflow~=2.9.0->tf-models-official>=2.5.1->object-detection==0.1) (1.0.1)\n",
            "Requirement already satisfied: requests-oauthlib>=0.7.0 in /usr/local/lib/python3.7/dist-packages (from google-auth-oauthlib<0.5,>=0.4.1->tensorboard<2.10,>=2.9->tensorflow~=2.9.0->tf-models-official>=2.5.1->object-detection==0.1) (1.3.1)\n",
            "Requirement already satisfied: importlib-metadata>=4.4 in /usr/local/lib/python3.7/dist-packages (from markdown>=2.6.8->tensorboard<2.10,>=2.9->tensorflow~=2.9.0->tf-models-official>=2.5.1->object-detection==0.1) (4.11.4)\n",
            "Requirement already satisfied: zipp>=0.5 in /usr/local/lib/python3.7/dist-packages (from importlib-metadata>=4.4->markdown>=2.6.8->tensorboard<2.10,>=2.9->tensorflow~=2.9.0->tf-models-official>=2.5.1->object-detection==0.1) (3.8.0)\n",
            "Requirement already satisfied: oauthlib>=3.0.0 in /usr/local/lib/python3.7/dist-packages (from requests-oauthlib>=0.7.0->google-auth-oauthlib<0.5,>=0.4.1->tensorboard<2.10,>=2.9->tensorflow~=2.9.0->tf-models-official>=2.5.1->object-detection==0.1) (3.2.0)\n",
            "Requirement already satisfied: dm-tree~=0.1.1 in /usr/local/lib/python3.7/dist-packages (from tensorflow-model-optimization>=0.4.1->tf-models-official>=2.5.1->object-detection==0.1) (0.1.7)\n",
            "Collecting pymongo<4.0.0,>=3.8.0\n",
            "  Downloading pymongo-3.12.3-cp37-cp37m-manylinux_2_17_x86_64.manylinux2014_x86_64.whl (508 kB)\n",
            "\u001b[K     |████████████████████████████████| 508 kB 52.5 MB/s \n",
            "\u001b[?25hRequirement already satisfied: pydot<2,>=1.2.0 in /usr/local/lib/python3.7/dist-packages (from apache-beam->object-detection==0.1) (1.3.0)\n",
            "Collecting fastavro<2,>=0.23.6\n",
            "  Downloading fastavro-1.5.2-cp37-cp37m-manylinux_2_17_x86_64.manylinux2014_x86_64.whl (2.3 MB)\n",
            "\u001b[K     |████████████████████████████████| 2.3 MB 43.6 MB/s \n",
            "\u001b[?25hCollecting cloudpickle<3,>=2.1.0\n",
            "  Downloading cloudpickle-2.1.0-py3-none-any.whl (25 kB)\n",
            "Collecting hdfs<3.0.0,>=2.1.0\n",
            "  Downloading hdfs-2.7.0-py3-none-any.whl (34 kB)\n",
            "Collecting proto-plus<2,>=1.7.1\n",
            "  Downloading proto_plus-1.20.6-py3-none-any.whl (46 kB)\n",
            "\u001b[K     |████████████████████████████████| 46 kB 3.9 MB/s \n",
            "\u001b[?25hCollecting requests<3.0.0dev,>=2.18.0\n",
            "  Downloading requests-2.28.1-py3-none-any.whl (62 kB)\n",
            "\u001b[K     |████████████████████████████████| 62 kB 1.4 MB/s \n",
            "\u001b[?25hCollecting orjson<4.0\n",
            "  Downloading orjson-3.7.5-cp37-cp37m-manylinux_2_17_x86_64.manylinux2014_x86_64.whl (272 kB)\n",
            "\u001b[K     |████████████████████████████████| 272 kB 64.0 MB/s \n",
            "\u001b[?25hCollecting dill<0.3.2,>=0.3.1.1\n",
            "  Downloading dill-0.3.1.1.tar.gz (151 kB)\n",
            "\u001b[K     |████████████████████████████████| 151 kB 60.5 MB/s \n",
            "\u001b[?25hRequirement already satisfied: crcmod<2.0,>=1.7 in /usr/local/lib/python3.7/dist-packages (from apache-beam->object-detection==0.1) (1.7)\n",
            "Requirement already satisfied: pyarrow<8.0.0,>=0.15.1 in /usr/local/lib/python3.7/dist-packages (from apache-beam->object-detection==0.1) (6.0.1)\n",
            "Requirement already satisfied: docopt in /usr/local/lib/python3.7/dist-packages (from hdfs<3.0.0,>=2.1.0->apache-beam->object-detection==0.1) (0.6.2)\n",
            "Collecting protobuf<4.0.0dev,>=3.12.0\n",
            "  Downloading protobuf-3.19.4-cp37-cp37m-manylinux_2_17_x86_64.manylinux2014_x86_64.whl (1.1 MB)\n",
            "\u001b[K     |████████████████████████████████| 1.1 MB 42.5 MB/s \n",
            "\u001b[?25hRequirement already satisfied: charset-normalizer<3,>=2 in /usr/local/lib/python3.7/dist-packages (from requests<3.0.0dev,>=2.18.0->google-api-core<3dev,>=1.21.0->google-api-python-client>=1.6.7->tf-models-official>=2.5.1->object-detection==0.1) (2.0.12)\n",
            "Requirement already satisfied: cycler>=0.10.0 in /usr/local/lib/python3.7/dist-packages (from lvis->object-detection==0.1) (0.11.0)\n",
            "Requirement already satisfied: kiwisolver>=1.1.0 in /usr/local/lib/python3.7/dist-packages (from lvis->object-detection==0.1) (1.4.3)\n",
            "Requirement already satisfied: opencv-python>=4.1.0.25 in /usr/local/lib/python3.7/dist-packages (from lvis->object-detection==0.1) (4.1.2.30)\n",
            "Requirement already satisfied: text-unidecode>=1.3 in /usr/local/lib/python3.7/dist-packages (from python-slugify->kaggle>=1.3.9->tf-models-official>=2.5.1->object-detection==0.1) (1.3)\n",
            "Requirement already satisfied: tabulate>=0.8.9 in /usr/local/lib/python3.7/dist-packages (from sacrebleu->tf-models-official>=2.5.1->object-detection==0.1) (0.8.9)\n",
            "Collecting portalocker\n",
            "  Downloading portalocker-2.4.0-py2.py3-none-any.whl (16 kB)\n",
            "Collecting colorama\n",
            "  Downloading colorama-0.4.5-py2.py3-none-any.whl (16 kB)\n",
            "Requirement already satisfied: regex in /usr/local/lib/python3.7/dist-packages (from sacrebleu->tf-models-official>=2.5.1->object-detection==0.1) (2022.6.2)\n",
            "Requirement already satisfied: scikit-learn>=0.21.3 in /usr/local/lib/python3.7/dist-packages (from seqeval->tf-models-official>=2.5.1->object-detection==0.1) (1.0.2)\n",
            "Requirement already satisfied: threadpoolctl>=2.0.0 in /usr/local/lib/python3.7/dist-packages (from scikit-learn>=0.21.3->seqeval->tf-models-official>=2.5.1->object-detection==0.1) (3.1.0)\n",
            "Requirement already satisfied: joblib>=0.11 in /usr/local/lib/python3.7/dist-packages (from scikit-learn>=0.21.3->seqeval->tf-models-official>=2.5.1->object-detection==0.1) (1.1.0)\n",
            "Requirement already satisfied: typeguard>=2.7 in /usr/local/lib/python3.7/dist-packages (from tensorflow-addons->tf-models-official>=2.5.1->object-detection==0.1) (2.7.1)\n",
            "Requirement already satisfied: importlib-resources in /usr/local/lib/python3.7/dist-packages (from tensorflow-datasets->tf-models-official>=2.5.1->object-detection==0.1) (5.7.1)\n",
            "Requirement already satisfied: attrs>=18.1.0 in /usr/local/lib/python3.7/dist-packages (from tensorflow-datasets->tf-models-official>=2.5.1->object-detection==0.1) (21.4.0)\n",
            "Requirement already satisfied: tensorflow-metadata in /usr/local/lib/python3.7/dist-packages (from tensorflow-datasets->tf-models-official>=2.5.1->object-detection==0.1) (1.8.0)\n",
            "Requirement already satisfied: promise in /usr/local/lib/python3.7/dist-packages (from tensorflow-datasets->tf-models-official>=2.5.1->object-detection==0.1) (2.3)\n",
            "Requirement already satisfied: future in /usr/local/lib/python3.7/dist-packages (from tensorflow-datasets->tf-models-official>=2.5.1->object-detection==0.1) (0.16.0)\n",
            "Building wheels for collected packages: object-detection, py-cpuinfo, dill, avro-python3, seqeval\n",
            "  Building wheel for object-detection (setup.py) ... \u001b[?25l\u001b[?25hdone\n",
            "  Created wheel for object-detection: filename=object_detection-0.1-py3-none-any.whl size=1694828 sha256=939b88fcf2b6889462b6aff6dd3308c049f288c028afe8e0181a6f021f8cdbbc\n",
            "  Stored in directory: /tmp/pip-ephem-wheel-cache-c7myojbq/wheels/fa/a4/d2/e9a5057e414fd46c8e543d2706cd836d64e1fcd9eccceb2329\n",
            "  Building wheel for py-cpuinfo (setup.py) ... \u001b[?25l\u001b[?25hdone\n",
            "  Created wheel for py-cpuinfo: filename=py_cpuinfo-8.0.0-py3-none-any.whl size=22257 sha256=4e7a8f5beeed07940187e555576a157dccd969d9dbea7a3274904bd24495839c\n",
            "  Stored in directory: /root/.cache/pip/wheels/d2/f1/1f/041add21dc9c4220157f1bd2bd6afe1f1a49524c3396b94401\n",
            "  Building wheel for dill (setup.py) ... \u001b[?25l\u001b[?25hdone\n",
            "  Created wheel for dill: filename=dill-0.3.1.1-py3-none-any.whl size=78544 sha256=6cf37d6fa511557ada1043950cd0236fdf4772655098c895f2ccfd2320437e9c\n",
            "  Stored in directory: /root/.cache/pip/wheels/a4/61/fd/c57e374e580aa78a45ed78d5859b3a44436af17e22ca53284f\n",
            "  Building wheel for avro-python3 (setup.py) ... \u001b[?25l\u001b[?25hdone\n",
            "  Created wheel for avro-python3: filename=avro_python3-1.10.2-py3-none-any.whl size=44010 sha256=0ecb91e8fa6be3487ceab59efbf20bdc4c9166d0357efda30dd7db6639440fac\n",
            "  Stored in directory: /root/.cache/pip/wheels/d6/e5/b1/6b151d9b535ee50aaa6ab27d145a0104b6df02e5636f0376da\n",
            "  Building wheel for seqeval (setup.py) ... \u001b[?25l\u001b[?25hdone\n",
            "  Created wheel for seqeval: filename=seqeval-1.2.2-py3-none-any.whl size=16180 sha256=93df9ed65d570eba91342e51245943435438c2f8c05f1de26e4a60c8a22b7bdd\n",
            "  Stored in directory: /root/.cache/pip/wheels/05/96/ee/7cac4e74f3b19e3158dce26a20a1c86b3533c43ec72a549fd7\n",
            "Successfully built object-detection py-cpuinfo dill avro-python3 seqeval\n",
            "Installing collected packages: requests, pyparsing, protobuf, tensorflow, portalocker, dill, colorama, tf-slim, tensorflow-text, tensorflow-model-optimization, tensorflow-addons, seqeval, sentencepiece, sacrebleu, pyyaml, pymongo, py-cpuinfo, proto-plus, orjson, opencv-python-headless, hdfs, fastavro, cloudpickle, tf-models-official, tensorflow-io, lvis, avro-python3, apache-beam, object-detection\n",
            "  Attempting uninstall: requests\n",
            "    Found existing installation: requests 2.23.0\n",
            "    Uninstalling requests-2.23.0:\n",
            "      Successfully uninstalled requests-2.23.0\n",
            "  Attempting uninstall: pyparsing\n",
            "    Found existing installation: pyparsing 3.0.9\n",
            "    Uninstalling pyparsing-3.0.9:\n",
            "      Successfully uninstalled pyparsing-3.0.9\n",
            "  Attempting uninstall: protobuf\n",
            "    Found existing installation: protobuf 3.17.3\n",
            "    Uninstalling protobuf-3.17.3:\n",
            "      Successfully uninstalled protobuf-3.17.3\n",
            "  Attempting uninstall: tensorflow\n",
            "    Found existing installation: tensorflow 2.8.2+zzzcolab20220527125636\n",
            "    Uninstalling tensorflow-2.8.2+zzzcolab20220527125636:\n",
            "      Successfully uninstalled tensorflow-2.8.2+zzzcolab20220527125636\n",
            "  Attempting uninstall: dill\n",
            "    Found existing installation: dill 0.3.5.1\n",
            "    Uninstalling dill-0.3.5.1:\n",
            "      Successfully uninstalled dill-0.3.5.1\n",
            "  Attempting uninstall: pyyaml\n",
            "    Found existing installation: PyYAML 3.13\n",
            "    Uninstalling PyYAML-3.13:\n",
            "      Successfully uninstalled PyYAML-3.13\n",
            "  Attempting uninstall: pymongo\n",
            "    Found existing installation: pymongo 4.1.1\n",
            "    Uninstalling pymongo-4.1.1:\n",
            "      Successfully uninstalled pymongo-4.1.1\n",
            "  Attempting uninstall: cloudpickle\n",
            "    Found existing installation: cloudpickle 1.3.0\n",
            "    Uninstalling cloudpickle-1.3.0:\n",
            "      Successfully uninstalled cloudpickle-1.3.0\n",
            "\u001b[31mERROR: pip's dependency resolver does not currently take into account all the packages that are installed. This behaviour is the source of the following dependency conflicts.\n",
            "multiprocess 0.70.13 requires dill>=0.3.5.1, but you have dill 0.3.1.1 which is incompatible.\n",
            "gym 0.17.3 requires cloudpickle<1.7.0,>=1.2.0, but you have cloudpickle 2.1.0 which is incompatible.\n",
            "google-colab 1.0.0 requires requests~=2.23.0, but you have requests 2.28.1 which is incompatible.\n",
            "datascience 0.10.6 requires folium==0.2.1, but you have folium 0.8.3 which is incompatible.\n",
            "albumentations 0.1.12 requires imgaug<0.2.7,>=0.2.5, but you have imgaug 0.2.9 which is incompatible.\u001b[0m\n",
            "Successfully installed apache-beam-2.40.0 avro-python3-1.10.2 cloudpickle-2.1.0 colorama-0.4.5 dill-0.3.1.1 fastavro-1.5.2 hdfs-2.7.0 lvis-0.5.3 object-detection-0.1 opencv-python-headless-4.6.0.66 orjson-3.7.5 portalocker-2.4.0 proto-plus-1.20.6 protobuf-3.19.4 py-cpuinfo-8.0.0 pymongo-3.12.3 pyparsing-2.4.7 pyyaml-5.4.1 requests-2.28.1 sacrebleu-2.1.0 sentencepiece-0.1.96 seqeval-1.2.2 tensorflow-2.9.1 tensorflow-addons-0.17.1 tensorflow-io-0.26.0 tensorflow-model-optimization-0.7.2 tensorflow-text-2.9.0 tf-models-official-2.9.2 tf-slim-1.1.0\n"
          ]
        }
      ],
      "source": [
        "!python -m pip install --use-feature=2020-resolver .\n"
      ]
    },
    {
      "cell_type": "code",
      "execution_count": null,
      "metadata": {
        "colab": {
          "base_uri": "https://localhost:8080/"
        },
        "id": "i_SU09XtPoFK",
        "outputId": "1704e2b1-63d8-42f6-925c-f8ec864a5864"
      },
      "outputs": [
        {
          "output_type": "stream",
          "name": "stdout",
          "text": [
            "2022-07-02 06:55:17.936464: E tensorflow/stream_executor/cuda/cuda_driver.cc:271] failed call to cuInit: CUDA_ERROR_NO_DEVICE: no CUDA-capable device is detected\n",
            "Running tests under Python 3.7.13: /usr/bin/python3\n",
            "[ RUN      ] ModelBuilderTF2Test.test_create_center_net_deepmac\n",
            "W0702 06:55:18.219505 140701597378432 model_builder.py:1102] Building experimental DeepMAC meta-arch. Some features may be omitted.\n",
            "INFO:tensorflow:time(__main__.ModelBuilderTF2Test.test_create_center_net_deepmac): 0.94s\n",
            "I0702 06:55:18.881435 140701597378432 test_util.py:2459] time(__main__.ModelBuilderTF2Test.test_create_center_net_deepmac): 0.94s\n",
            "[       OK ] ModelBuilderTF2Test.test_create_center_net_deepmac\n",
            "[ RUN      ] ModelBuilderTF2Test.test_create_center_net_model0 (customize_head_params=True)\n",
            "INFO:tensorflow:time(__main__.ModelBuilderTF2Test.test_create_center_net_model0 (customize_head_params=True)): 1.28s\n",
            "I0702 06:55:20.164765 140701597378432 test_util.py:2459] time(__main__.ModelBuilderTF2Test.test_create_center_net_model0 (customize_head_params=True)): 1.28s\n",
            "[       OK ] ModelBuilderTF2Test.test_create_center_net_model0 (customize_head_params=True)\n",
            "[ RUN      ] ModelBuilderTF2Test.test_create_center_net_model1 (customize_head_params=False)\n",
            "INFO:tensorflow:time(__main__.ModelBuilderTF2Test.test_create_center_net_model1 (customize_head_params=False)): 0.55s\n",
            "I0702 06:55:20.718336 140701597378432 test_util.py:2459] time(__main__.ModelBuilderTF2Test.test_create_center_net_model1 (customize_head_params=False)): 0.55s\n",
            "[       OK ] ModelBuilderTF2Test.test_create_center_net_model1 (customize_head_params=False)\n",
            "[ RUN      ] ModelBuilderTF2Test.test_create_center_net_model_from_keypoints\n",
            "INFO:tensorflow:time(__main__.ModelBuilderTF2Test.test_create_center_net_model_from_keypoints): 0.55s\n",
            "I0702 06:55:21.268689 140701597378432 test_util.py:2459] time(__main__.ModelBuilderTF2Test.test_create_center_net_model_from_keypoints): 0.55s\n",
            "[       OK ] ModelBuilderTF2Test.test_create_center_net_model_from_keypoints\n",
            "[ RUN      ] ModelBuilderTF2Test.test_create_center_net_model_mobilenet\n",
            "INFO:tensorflow:time(__main__.ModelBuilderTF2Test.test_create_center_net_model_mobilenet): 2.67s\n",
            "I0702 06:55:23.936208 140701597378432 test_util.py:2459] time(__main__.ModelBuilderTF2Test.test_create_center_net_model_mobilenet): 2.67s\n",
            "[       OK ] ModelBuilderTF2Test.test_create_center_net_model_mobilenet\n",
            "[ RUN      ] ModelBuilderTF2Test.test_create_experimental_model\n",
            "INFO:tensorflow:time(__main__.ModelBuilderTF2Test.test_create_experimental_model): 0.0s\n",
            "I0702 06:55:23.937304 140701597378432 test_util.py:2459] time(__main__.ModelBuilderTF2Test.test_create_experimental_model): 0.0s\n",
            "[       OK ] ModelBuilderTF2Test.test_create_experimental_model\n",
            "[ RUN      ] ModelBuilderTF2Test.test_create_faster_rcnn_from_config_with_crop_feature0 (True)\n",
            "INFO:tensorflow:time(__main__.ModelBuilderTF2Test.test_create_faster_rcnn_from_config_with_crop_feature0 (True)): 0.03s\n",
            "I0702 06:55:23.965979 140701597378432 test_util.py:2459] time(__main__.ModelBuilderTF2Test.test_create_faster_rcnn_from_config_with_crop_feature0 (True)): 0.03s\n",
            "[       OK ] ModelBuilderTF2Test.test_create_faster_rcnn_from_config_with_crop_feature0 (True)\n",
            "[ RUN      ] ModelBuilderTF2Test.test_create_faster_rcnn_from_config_with_crop_feature1 (False)\n",
            "INFO:tensorflow:time(__main__.ModelBuilderTF2Test.test_create_faster_rcnn_from_config_with_crop_feature1 (False)): 0.02s\n",
            "I0702 06:55:23.985179 140701597378432 test_util.py:2459] time(__main__.ModelBuilderTF2Test.test_create_faster_rcnn_from_config_with_crop_feature1 (False)): 0.02s\n",
            "[       OK ] ModelBuilderTF2Test.test_create_faster_rcnn_from_config_with_crop_feature1 (False)\n",
            "[ RUN      ] ModelBuilderTF2Test.test_create_faster_rcnn_model_from_config_with_example_miner\n",
            "INFO:tensorflow:time(__main__.ModelBuilderTF2Test.test_create_faster_rcnn_model_from_config_with_example_miner): 0.02s\n",
            "I0702 06:55:24.003382 140701597378432 test_util.py:2459] time(__main__.ModelBuilderTF2Test.test_create_faster_rcnn_model_from_config_with_example_miner): 0.02s\n",
            "[       OK ] ModelBuilderTF2Test.test_create_faster_rcnn_model_from_config_with_example_miner\n",
            "[ RUN      ] ModelBuilderTF2Test.test_create_faster_rcnn_models_from_config_faster_rcnn_with_matmul\n",
            "INFO:tensorflow:time(__main__.ModelBuilderTF2Test.test_create_faster_rcnn_models_from_config_faster_rcnn_with_matmul): 0.13s\n",
            "I0702 06:55:24.131474 140701597378432 test_util.py:2459] time(__main__.ModelBuilderTF2Test.test_create_faster_rcnn_models_from_config_faster_rcnn_with_matmul): 0.13s\n",
            "[       OK ] ModelBuilderTF2Test.test_create_faster_rcnn_models_from_config_faster_rcnn_with_matmul\n",
            "[ RUN      ] ModelBuilderTF2Test.test_create_faster_rcnn_models_from_config_faster_rcnn_without_matmul\n",
            "INFO:tensorflow:time(__main__.ModelBuilderTF2Test.test_create_faster_rcnn_models_from_config_faster_rcnn_without_matmul): 0.11s\n",
            "I0702 06:55:24.242444 140701597378432 test_util.py:2459] time(__main__.ModelBuilderTF2Test.test_create_faster_rcnn_models_from_config_faster_rcnn_without_matmul): 0.11s\n",
            "[       OK ] ModelBuilderTF2Test.test_create_faster_rcnn_models_from_config_faster_rcnn_without_matmul\n",
            "[ RUN      ] ModelBuilderTF2Test.test_create_faster_rcnn_models_from_config_mask_rcnn_with_matmul\n",
            "INFO:tensorflow:time(__main__.ModelBuilderTF2Test.test_create_faster_rcnn_models_from_config_mask_rcnn_with_matmul): 0.11s\n",
            "I0702 06:55:24.355971 140701597378432 test_util.py:2459] time(__main__.ModelBuilderTF2Test.test_create_faster_rcnn_models_from_config_mask_rcnn_with_matmul): 0.11s\n",
            "[       OK ] ModelBuilderTF2Test.test_create_faster_rcnn_models_from_config_mask_rcnn_with_matmul\n",
            "[ RUN      ] ModelBuilderTF2Test.test_create_faster_rcnn_models_from_config_mask_rcnn_without_matmul\n",
            "INFO:tensorflow:time(__main__.ModelBuilderTF2Test.test_create_faster_rcnn_models_from_config_mask_rcnn_without_matmul): 0.12s\n",
            "I0702 06:55:24.472500 140701597378432 test_util.py:2459] time(__main__.ModelBuilderTF2Test.test_create_faster_rcnn_models_from_config_mask_rcnn_without_matmul): 0.12s\n",
            "[       OK ] ModelBuilderTF2Test.test_create_faster_rcnn_models_from_config_mask_rcnn_without_matmul\n",
            "[ RUN      ] ModelBuilderTF2Test.test_create_rfcn_model_from_config\n",
            "INFO:tensorflow:time(__main__.ModelBuilderTF2Test.test_create_rfcn_model_from_config): 0.11s\n",
            "I0702 06:55:24.585392 140701597378432 test_util.py:2459] time(__main__.ModelBuilderTF2Test.test_create_rfcn_model_from_config): 0.11s\n",
            "[       OK ] ModelBuilderTF2Test.test_create_rfcn_model_from_config\n",
            "[ RUN      ] ModelBuilderTF2Test.test_create_ssd_fpn_model_from_config\n",
            "INFO:tensorflow:time(__main__.ModelBuilderTF2Test.test_create_ssd_fpn_model_from_config): 0.03s\n",
            "I0702 06:55:24.617500 140701597378432 test_util.py:2459] time(__main__.ModelBuilderTF2Test.test_create_ssd_fpn_model_from_config): 0.03s\n",
            "[       OK ] ModelBuilderTF2Test.test_create_ssd_fpn_model_from_config\n",
            "[ RUN      ] ModelBuilderTF2Test.test_create_ssd_models_from_config\n",
            "I0702 06:55:24.829888 140701597378432 ssd_efficientnet_bifpn_feature_extractor.py:146] EfficientDet EfficientNet backbone version: efficientnet-b0\n",
            "I0702 06:55:24.830098 140701597378432 ssd_efficientnet_bifpn_feature_extractor.py:147] EfficientDet BiFPN num filters: 64\n",
            "I0702 06:55:24.830164 140701597378432 ssd_efficientnet_bifpn_feature_extractor.py:149] EfficientDet BiFPN num iterations: 3\n",
            "I0702 06:55:24.832871 140701597378432 efficientnet_model.py:143] round_filter input=32 output=32\n",
            "I0702 06:55:24.852848 140701597378432 efficientnet_model.py:143] round_filter input=32 output=32\n",
            "I0702 06:55:24.853038 140701597378432 efficientnet_model.py:143] round_filter input=16 output=16\n",
            "I0702 06:55:24.931899 140701597378432 efficientnet_model.py:143] round_filter input=16 output=16\n",
            "I0702 06:55:24.932118 140701597378432 efficientnet_model.py:143] round_filter input=24 output=24\n",
            "I0702 06:55:25.125831 140701597378432 efficientnet_model.py:143] round_filter input=24 output=24\n",
            "I0702 06:55:25.126024 140701597378432 efficientnet_model.py:143] round_filter input=40 output=40\n",
            "I0702 06:55:25.318393 140701597378432 efficientnet_model.py:143] round_filter input=40 output=40\n",
            "I0702 06:55:25.318603 140701597378432 efficientnet_model.py:143] round_filter input=80 output=80\n",
            "I0702 06:55:25.602907 140701597378432 efficientnet_model.py:143] round_filter input=80 output=80\n",
            "I0702 06:55:25.603085 140701597378432 efficientnet_model.py:143] round_filter input=112 output=112\n",
            "I0702 06:55:25.896258 140701597378432 efficientnet_model.py:143] round_filter input=112 output=112\n",
            "I0702 06:55:25.896485 140701597378432 efficientnet_model.py:143] round_filter input=192 output=192\n",
            "I0702 06:55:26.343505 140701597378432 efficientnet_model.py:143] round_filter input=192 output=192\n",
            "I0702 06:55:26.343699 140701597378432 efficientnet_model.py:143] round_filter input=320 output=320\n",
            "I0702 06:55:26.451920 140701597378432 efficientnet_model.py:143] round_filter input=1280 output=1280\n",
            "I0702 06:55:26.516595 140701597378432 efficientnet_model.py:453] Building model efficientnet with params ModelConfig(width_coefficient=1.0, depth_coefficient=1.0, resolution=224, dropout_rate=0.2, blocks=(BlockConfig(input_filters=32, output_filters=16, kernel_size=3, num_repeat=1, expand_ratio=1, strides=(1, 1), se_ratio=0.25, id_skip=True, fused_conv=False, conv_type='depthwise'), BlockConfig(input_filters=16, output_filters=24, kernel_size=3, num_repeat=2, expand_ratio=6, strides=(2, 2), se_ratio=0.25, id_skip=True, fused_conv=False, conv_type='depthwise'), BlockConfig(input_filters=24, output_filters=40, kernel_size=5, num_repeat=2, expand_ratio=6, strides=(2, 2), se_ratio=0.25, id_skip=True, fused_conv=False, conv_type='depthwise'), BlockConfig(input_filters=40, output_filters=80, kernel_size=3, num_repeat=3, expand_ratio=6, strides=(2, 2), se_ratio=0.25, id_skip=True, fused_conv=False, conv_type='depthwise'), BlockConfig(input_filters=80, output_filters=112, kernel_size=5, num_repeat=3, expand_ratio=6, strides=(1, 1), se_ratio=0.25, id_skip=True, fused_conv=False, conv_type='depthwise'), BlockConfig(input_filters=112, output_filters=192, kernel_size=5, num_repeat=4, expand_ratio=6, strides=(2, 2), se_ratio=0.25, id_skip=True, fused_conv=False, conv_type='depthwise'), BlockConfig(input_filters=192, output_filters=320, kernel_size=3, num_repeat=1, expand_ratio=6, strides=(1, 1), se_ratio=0.25, id_skip=True, fused_conv=False, conv_type='depthwise')), stem_base_filters=32, top_base_filters=1280, activation='simple_swish', batch_norm='default', bn_momentum=0.99, bn_epsilon=0.001, weight_decay=5e-06, drop_connect_rate=0.2, depth_divisor=8, min_depth=None, use_se=True, input_channels=3, num_classes=1000, model_name='efficientnet', rescale_input=False, data_format='channels_last', dtype='float32')\n",
            "I0702 06:55:26.758733 140701597378432 ssd_efficientnet_bifpn_feature_extractor.py:146] EfficientDet EfficientNet backbone version: efficientnet-b1\n",
            "I0702 06:55:26.758927 140701597378432 ssd_efficientnet_bifpn_feature_extractor.py:147] EfficientDet BiFPN num filters: 88\n",
            "I0702 06:55:26.758991 140701597378432 ssd_efficientnet_bifpn_feature_extractor.py:149] EfficientDet BiFPN num iterations: 4\n",
            "I0702 06:55:26.760858 140701597378432 efficientnet_model.py:143] round_filter input=32 output=32\n",
            "I0702 06:55:26.779301 140701597378432 efficientnet_model.py:143] round_filter input=32 output=32\n",
            "I0702 06:55:26.779456 140701597378432 efficientnet_model.py:143] round_filter input=16 output=16\n",
            "I0702 06:55:26.918242 140701597378432 efficientnet_model.py:143] round_filter input=16 output=16\n",
            "I0702 06:55:26.918433 140701597378432 efficientnet_model.py:143] round_filter input=24 output=24\n",
            "I0702 06:55:27.215516 140701597378432 efficientnet_model.py:143] round_filter input=24 output=24\n",
            "I0702 06:55:27.215719 140701597378432 efficientnet_model.py:143] round_filter input=40 output=40\n",
            "I0702 06:55:27.524916 140701597378432 efficientnet_model.py:143] round_filter input=40 output=40\n",
            "I0702 06:55:27.525129 140701597378432 efficientnet_model.py:143] round_filter input=80 output=80\n",
            "I0702 06:55:27.931357 140701597378432 efficientnet_model.py:143] round_filter input=80 output=80\n",
            "I0702 06:55:27.931567 140701597378432 efficientnet_model.py:143] round_filter input=112 output=112\n",
            "I0702 06:55:28.335416 140701597378432 efficientnet_model.py:143] round_filter input=112 output=112\n",
            "I0702 06:55:28.335612 140701597378432 efficientnet_model.py:143] round_filter input=192 output=192\n",
            "I0702 06:55:28.874702 140701597378432 efficientnet_model.py:143] round_filter input=192 output=192\n",
            "I0702 06:55:28.874895 140701597378432 efficientnet_model.py:143] round_filter input=320 output=320\n",
            "I0702 06:55:29.119440 140701597378432 efficientnet_model.py:143] round_filter input=1280 output=1280\n",
            "I0702 06:55:29.189348 140701597378432 efficientnet_model.py:453] Building model efficientnet with params ModelConfig(width_coefficient=1.0, depth_coefficient=1.1, resolution=240, dropout_rate=0.2, blocks=(BlockConfig(input_filters=32, output_filters=16, kernel_size=3, num_repeat=1, expand_ratio=1, strides=(1, 1), se_ratio=0.25, id_skip=True, fused_conv=False, conv_type='depthwise'), BlockConfig(input_filters=16, output_filters=24, kernel_size=3, num_repeat=2, expand_ratio=6, strides=(2, 2), se_ratio=0.25, id_skip=True, fused_conv=False, conv_type='depthwise'), BlockConfig(input_filters=24, output_filters=40, kernel_size=5, num_repeat=2, expand_ratio=6, strides=(2, 2), se_ratio=0.25, id_skip=True, fused_conv=False, conv_type='depthwise'), BlockConfig(input_filters=40, output_filters=80, kernel_size=3, num_repeat=3, expand_ratio=6, strides=(2, 2), se_ratio=0.25, id_skip=True, fused_conv=False, conv_type='depthwise'), BlockConfig(input_filters=80, output_filters=112, kernel_size=5, num_repeat=3, expand_ratio=6, strides=(1, 1), se_ratio=0.25, id_skip=True, fused_conv=False, conv_type='depthwise'), BlockConfig(input_filters=112, output_filters=192, kernel_size=5, num_repeat=4, expand_ratio=6, strides=(2, 2), se_ratio=0.25, id_skip=True, fused_conv=False, conv_type='depthwise'), BlockConfig(input_filters=192, output_filters=320, kernel_size=3, num_repeat=1, expand_ratio=6, strides=(1, 1), se_ratio=0.25, id_skip=True, fused_conv=False, conv_type='depthwise')), stem_base_filters=32, top_base_filters=1280, activation='simple_swish', batch_norm='default', bn_momentum=0.99, bn_epsilon=0.001, weight_decay=5e-06, drop_connect_rate=0.2, depth_divisor=8, min_depth=None, use_se=True, input_channels=3, num_classes=1000, model_name='efficientnet', rescale_input=False, data_format='channels_last', dtype='float32')\n",
            "I0702 06:55:29.261295 140701597378432 ssd_efficientnet_bifpn_feature_extractor.py:146] EfficientDet EfficientNet backbone version: efficientnet-b2\n",
            "I0702 06:55:29.261487 140701597378432 ssd_efficientnet_bifpn_feature_extractor.py:147] EfficientDet BiFPN num filters: 112\n",
            "I0702 06:55:29.261550 140701597378432 ssd_efficientnet_bifpn_feature_extractor.py:149] EfficientDet BiFPN num iterations: 5\n",
            "I0702 06:55:29.263352 140701597378432 efficientnet_model.py:143] round_filter input=32 output=32\n",
            "I0702 06:55:29.281909 140701597378432 efficientnet_model.py:143] round_filter input=32 output=32\n",
            "I0702 06:55:29.282094 140701597378432 efficientnet_model.py:143] round_filter input=16 output=16\n",
            "I0702 06:55:29.428592 140701597378432 efficientnet_model.py:143] round_filter input=16 output=16\n",
            "I0702 06:55:29.428789 140701597378432 efficientnet_model.py:143] round_filter input=24 output=24\n",
            "I0702 06:55:29.706424 140701597378432 efficientnet_model.py:143] round_filter input=24 output=24\n",
            "I0702 06:55:29.706614 140701597378432 efficientnet_model.py:143] round_filter input=40 output=48\n",
            "I0702 06:55:30.007430 140701597378432 efficientnet_model.py:143] round_filter input=40 output=48\n",
            "I0702 06:55:30.007622 140701597378432 efficientnet_model.py:143] round_filter input=80 output=88\n",
            "I0702 06:55:30.409709 140701597378432 efficientnet_model.py:143] round_filter input=80 output=88\n",
            "I0702 06:55:30.409913 140701597378432 efficientnet_model.py:143] round_filter input=112 output=120\n",
            "I0702 06:55:30.806996 140701597378432 efficientnet_model.py:143] round_filter input=112 output=120\n",
            "I0702 06:55:30.807285 140701597378432 efficientnet_model.py:143] round_filter input=192 output=208\n",
            "I0702 06:55:31.370242 140701597378432 efficientnet_model.py:143] round_filter input=192 output=208\n",
            "I0702 06:55:31.370451 140701597378432 efficientnet_model.py:143] round_filter input=320 output=352\n",
            "I0702 06:55:31.623130 140701597378432 efficientnet_model.py:143] round_filter input=1280 output=1408\n",
            "I0702 06:55:31.694250 140701597378432 efficientnet_model.py:453] Building model efficientnet with params ModelConfig(width_coefficient=1.1, depth_coefficient=1.2, resolution=260, dropout_rate=0.3, blocks=(BlockConfig(input_filters=32, output_filters=16, kernel_size=3, num_repeat=1, expand_ratio=1, strides=(1, 1), se_ratio=0.25, id_skip=True, fused_conv=False, conv_type='depthwise'), BlockConfig(input_filters=16, output_filters=24, kernel_size=3, num_repeat=2, expand_ratio=6, strides=(2, 2), se_ratio=0.25, id_skip=True, fused_conv=False, conv_type='depthwise'), BlockConfig(input_filters=24, output_filters=40, kernel_size=5, num_repeat=2, expand_ratio=6, strides=(2, 2), se_ratio=0.25, id_skip=True, fused_conv=False, conv_type='depthwise'), BlockConfig(input_filters=40, output_filters=80, kernel_size=3, num_repeat=3, expand_ratio=6, strides=(2, 2), se_ratio=0.25, id_skip=True, fused_conv=False, conv_type='depthwise'), BlockConfig(input_filters=80, output_filters=112, kernel_size=5, num_repeat=3, expand_ratio=6, strides=(1, 1), se_ratio=0.25, id_skip=True, fused_conv=False, conv_type='depthwise'), BlockConfig(input_filters=112, output_filters=192, kernel_size=5, num_repeat=4, expand_ratio=6, strides=(2, 2), se_ratio=0.25, id_skip=True, fused_conv=False, conv_type='depthwise'), BlockConfig(input_filters=192, output_filters=320, kernel_size=3, num_repeat=1, expand_ratio=6, strides=(1, 1), se_ratio=0.25, id_skip=True, fused_conv=False, conv_type='depthwise')), stem_base_filters=32, top_base_filters=1280, activation='simple_swish', batch_norm='default', bn_momentum=0.99, bn_epsilon=0.001, weight_decay=5e-06, drop_connect_rate=0.2, depth_divisor=8, min_depth=None, use_se=True, input_channels=3, num_classes=1000, model_name='efficientnet', rescale_input=False, data_format='channels_last', dtype='float32')\n",
            "I0702 06:55:31.763628 140701597378432 ssd_efficientnet_bifpn_feature_extractor.py:146] EfficientDet EfficientNet backbone version: efficientnet-b3\n",
            "I0702 06:55:31.763839 140701597378432 ssd_efficientnet_bifpn_feature_extractor.py:147] EfficientDet BiFPN num filters: 160\n",
            "I0702 06:55:31.763927 140701597378432 ssd_efficientnet_bifpn_feature_extractor.py:149] EfficientDet BiFPN num iterations: 6\n",
            "I0702 06:55:31.765805 140701597378432 efficientnet_model.py:143] round_filter input=32 output=40\n",
            "I0702 06:55:31.786572 140701597378432 efficientnet_model.py:143] round_filter input=32 output=40\n",
            "I0702 06:55:31.786747 140701597378432 efficientnet_model.py:143] round_filter input=16 output=24\n",
            "I0702 06:55:31.948807 140701597378432 efficientnet_model.py:143] round_filter input=16 output=24\n",
            "I0702 06:55:31.948998 140701597378432 efficientnet_model.py:143] round_filter input=24 output=32\n",
            "I0702 06:55:32.238889 140701597378432 efficientnet_model.py:143] round_filter input=24 output=32\n",
            "I0702 06:55:32.239102 140701597378432 efficientnet_model.py:143] round_filter input=40 output=48\n",
            "I0702 06:55:32.540364 140701597378432 efficientnet_model.py:143] round_filter input=40 output=48\n",
            "I0702 06:55:32.540581 140701597378432 efficientnet_model.py:143] round_filter input=80 output=96\n",
            "I0702 06:55:33.079068 140701597378432 efficientnet_model.py:143] round_filter input=80 output=96\n",
            "I0702 06:55:33.079284 140701597378432 efficientnet_model.py:143] round_filter input=112 output=136\n",
            "I0702 06:55:33.854219 140701597378432 efficientnet_model.py:143] round_filter input=112 output=136\n",
            "I0702 06:55:33.854418 140701597378432 efficientnet_model.py:143] round_filter input=192 output=232\n",
            "I0702 06:55:34.590556 140701597378432 efficientnet_model.py:143] round_filter input=192 output=232\n",
            "I0702 06:55:34.590755 140701597378432 efficientnet_model.py:143] round_filter input=320 output=384\n",
            "I0702 06:55:34.865932 140701597378432 efficientnet_model.py:143] round_filter input=1280 output=1536\n",
            "I0702 06:55:34.937702 140701597378432 efficientnet_model.py:453] Building model efficientnet with params ModelConfig(width_coefficient=1.2, depth_coefficient=1.4, resolution=300, dropout_rate=0.3, blocks=(BlockConfig(input_filters=32, output_filters=16, kernel_size=3, num_repeat=1, expand_ratio=1, strides=(1, 1), se_ratio=0.25, id_skip=True, fused_conv=False, conv_type='depthwise'), BlockConfig(input_filters=16, output_filters=24, kernel_size=3, num_repeat=2, expand_ratio=6, strides=(2, 2), se_ratio=0.25, id_skip=True, fused_conv=False, conv_type='depthwise'), BlockConfig(input_filters=24, output_filters=40, kernel_size=5, num_repeat=2, expand_ratio=6, strides=(2, 2), se_ratio=0.25, id_skip=True, fused_conv=False, conv_type='depthwise'), BlockConfig(input_filters=40, output_filters=80, kernel_size=3, num_repeat=3, expand_ratio=6, strides=(2, 2), se_ratio=0.25, id_skip=True, fused_conv=False, conv_type='depthwise'), BlockConfig(input_filters=80, output_filters=112, kernel_size=5, num_repeat=3, expand_ratio=6, strides=(1, 1), se_ratio=0.25, id_skip=True, fused_conv=False, conv_type='depthwise'), BlockConfig(input_filters=112, output_filters=192, kernel_size=5, num_repeat=4, expand_ratio=6, strides=(2, 2), se_ratio=0.25, id_skip=True, fused_conv=False, conv_type='depthwise'), BlockConfig(input_filters=192, output_filters=320, kernel_size=3, num_repeat=1, expand_ratio=6, strides=(1, 1), se_ratio=0.25, id_skip=True, fused_conv=False, conv_type='depthwise')), stem_base_filters=32, top_base_filters=1280, activation='simple_swish', batch_norm='default', bn_momentum=0.99, bn_epsilon=0.001, weight_decay=5e-06, drop_connect_rate=0.2, depth_divisor=8, min_depth=None, use_se=True, input_channels=3, num_classes=1000, model_name='efficientnet', rescale_input=False, data_format='channels_last', dtype='float32')\n",
            "I0702 06:55:35.013677 140701597378432 ssd_efficientnet_bifpn_feature_extractor.py:146] EfficientDet EfficientNet backbone version: efficientnet-b4\n",
            "I0702 06:55:35.013883 140701597378432 ssd_efficientnet_bifpn_feature_extractor.py:147] EfficientDet BiFPN num filters: 224\n",
            "I0702 06:55:35.013955 140701597378432 ssd_efficientnet_bifpn_feature_extractor.py:149] EfficientDet BiFPN num iterations: 7\n",
            "I0702 06:55:35.015845 140701597378432 efficientnet_model.py:143] round_filter input=32 output=48\n",
            "I0702 06:55:35.036001 140701597378432 efficientnet_model.py:143] round_filter input=32 output=48\n",
            "I0702 06:55:35.036239 140701597378432 efficientnet_model.py:143] round_filter input=16 output=24\n",
            "I0702 06:55:35.189762 140701597378432 efficientnet_model.py:143] round_filter input=16 output=24\n",
            "I0702 06:55:35.189964 140701597378432 efficientnet_model.py:143] round_filter input=24 output=32\n",
            "I0702 06:55:35.571192 140701597378432 efficientnet_model.py:143] round_filter input=24 output=32\n",
            "I0702 06:55:35.571429 140701597378432 efficientnet_model.py:143] round_filter input=40 output=56\n",
            "I0702 06:55:35.957463 140701597378432 efficientnet_model.py:143] round_filter input=40 output=56\n",
            "I0702 06:55:35.957665 140701597378432 efficientnet_model.py:143] round_filter input=80 output=112\n",
            "I0702 06:55:36.577594 140701597378432 efficientnet_model.py:143] round_filter input=80 output=112\n",
            "I0702 06:55:36.577800 140701597378432 efficientnet_model.py:143] round_filter input=112 output=160\n",
            "I0702 06:55:37.201524 140701597378432 efficientnet_model.py:143] round_filter input=112 output=160\n",
            "I0702 06:55:37.201721 140701597378432 efficientnet_model.py:143] round_filter input=192 output=272\n",
            "I0702 06:55:38.184422 140701597378432 efficientnet_model.py:143] round_filter input=192 output=272\n",
            "I0702 06:55:38.184618 140701597378432 efficientnet_model.py:143] round_filter input=320 output=448\n",
            "I0702 06:55:38.509093 140701597378432 efficientnet_model.py:143] round_filter input=1280 output=1792\n",
            "I0702 06:55:38.584803 140701597378432 efficientnet_model.py:453] Building model efficientnet with params ModelConfig(width_coefficient=1.4, depth_coefficient=1.8, resolution=380, dropout_rate=0.4, blocks=(BlockConfig(input_filters=32, output_filters=16, kernel_size=3, num_repeat=1, expand_ratio=1, strides=(1, 1), se_ratio=0.25, id_skip=True, fused_conv=False, conv_type='depthwise'), BlockConfig(input_filters=16, output_filters=24, kernel_size=3, num_repeat=2, expand_ratio=6, strides=(2, 2), se_ratio=0.25, id_skip=True, fused_conv=False, conv_type='depthwise'), BlockConfig(input_filters=24, output_filters=40, kernel_size=5, num_repeat=2, expand_ratio=6, strides=(2, 2), se_ratio=0.25, id_skip=True, fused_conv=False, conv_type='depthwise'), BlockConfig(input_filters=40, output_filters=80, kernel_size=3, num_repeat=3, expand_ratio=6, strides=(2, 2), se_ratio=0.25, id_skip=True, fused_conv=False, conv_type='depthwise'), BlockConfig(input_filters=80, output_filters=112, kernel_size=5, num_repeat=3, expand_ratio=6, strides=(1, 1), se_ratio=0.25, id_skip=True, fused_conv=False, conv_type='depthwise'), BlockConfig(input_filters=112, output_filters=192, kernel_size=5, num_repeat=4, expand_ratio=6, strides=(2, 2), se_ratio=0.25, id_skip=True, fused_conv=False, conv_type='depthwise'), BlockConfig(input_filters=192, output_filters=320, kernel_size=3, num_repeat=1, expand_ratio=6, strides=(1, 1), se_ratio=0.25, id_skip=True, fused_conv=False, conv_type='depthwise')), stem_base_filters=32, top_base_filters=1280, activation='simple_swish', batch_norm='default', bn_momentum=0.99, bn_epsilon=0.001, weight_decay=5e-06, drop_connect_rate=0.2, depth_divisor=8, min_depth=None, use_se=True, input_channels=3, num_classes=1000, model_name='efficientnet', rescale_input=False, data_format='channels_last', dtype='float32')\n",
            "I0702 06:55:38.669719 140701597378432 ssd_efficientnet_bifpn_feature_extractor.py:146] EfficientDet EfficientNet backbone version: efficientnet-b5\n",
            "I0702 06:55:38.669912 140701597378432 ssd_efficientnet_bifpn_feature_extractor.py:147] EfficientDet BiFPN num filters: 288\n",
            "I0702 06:55:38.669974 140701597378432 ssd_efficientnet_bifpn_feature_extractor.py:149] EfficientDet BiFPN num iterations: 7\n",
            "I0702 06:55:38.671756 140701597378432 efficientnet_model.py:143] round_filter input=32 output=48\n",
            "I0702 06:55:38.690490 140701597378432 efficientnet_model.py:143] round_filter input=32 output=48\n",
            "I0702 06:55:38.690667 140701597378432 efficientnet_model.py:143] round_filter input=16 output=24\n",
            "I0702 06:55:38.923423 140701597378432 efficientnet_model.py:143] round_filter input=16 output=24\n",
            "I0702 06:55:38.923617 140701597378432 efficientnet_model.py:143] round_filter input=24 output=40\n",
            "I0702 06:55:39.439150 140701597378432 efficientnet_model.py:143] round_filter input=24 output=40\n",
            "I0702 06:55:39.439345 140701597378432 efficientnet_model.py:143] round_filter input=40 output=64\n",
            "I0702 06:55:39.916646 140701597378432 efficientnet_model.py:143] round_filter input=40 output=64\n",
            "I0702 06:55:39.916867 140701597378432 efficientnet_model.py:143] round_filter input=80 output=128\n",
            "I0702 06:55:40.621788 140701597378432 efficientnet_model.py:143] round_filter input=80 output=128\n",
            "I0702 06:55:40.621986 140701597378432 efficientnet_model.py:143] round_filter input=112 output=176\n",
            "I0702 06:55:41.628576 140701597378432 efficientnet_model.py:143] round_filter input=112 output=176\n",
            "I0702 06:55:41.628785 140701597378432 efficientnet_model.py:143] round_filter input=192 output=304\n",
            "I0702 06:55:42.864986 140701597378432 efficientnet_model.py:143] round_filter input=192 output=304\n",
            "I0702 06:55:42.865243 140701597378432 efficientnet_model.py:143] round_filter input=320 output=512\n",
            "I0702 06:55:43.417347 140701597378432 efficientnet_model.py:143] round_filter input=1280 output=2048\n",
            "I0702 06:55:43.510353 140701597378432 efficientnet_model.py:453] Building model efficientnet with params ModelConfig(width_coefficient=1.6, depth_coefficient=2.2, resolution=456, dropout_rate=0.4, blocks=(BlockConfig(input_filters=32, output_filters=16, kernel_size=3, num_repeat=1, expand_ratio=1, strides=(1, 1), se_ratio=0.25, id_skip=True, fused_conv=False, conv_type='depthwise'), BlockConfig(input_filters=16, output_filters=24, kernel_size=3, num_repeat=2, expand_ratio=6, strides=(2, 2), se_ratio=0.25, id_skip=True, fused_conv=False, conv_type='depthwise'), BlockConfig(input_filters=24, output_filters=40, kernel_size=5, num_repeat=2, expand_ratio=6, strides=(2, 2), se_ratio=0.25, id_skip=True, fused_conv=False, conv_type='depthwise'), BlockConfig(input_filters=40, output_filters=80, kernel_size=3, num_repeat=3, expand_ratio=6, strides=(2, 2), se_ratio=0.25, id_skip=True, fused_conv=False, conv_type='depthwise'), BlockConfig(input_filters=80, output_filters=112, kernel_size=5, num_repeat=3, expand_ratio=6, strides=(1, 1), se_ratio=0.25, id_skip=True, fused_conv=False, conv_type='depthwise'), BlockConfig(input_filters=112, output_filters=192, kernel_size=5, num_repeat=4, expand_ratio=6, strides=(2, 2), se_ratio=0.25, id_skip=True, fused_conv=False, conv_type='depthwise'), BlockConfig(input_filters=192, output_filters=320, kernel_size=3, num_repeat=1, expand_ratio=6, strides=(1, 1), se_ratio=0.25, id_skip=True, fused_conv=False, conv_type='depthwise')), stem_base_filters=32, top_base_filters=1280, activation='simple_swish', batch_norm='default', bn_momentum=0.99, bn_epsilon=0.001, weight_decay=5e-06, drop_connect_rate=0.2, depth_divisor=8, min_depth=None, use_se=True, input_channels=3, num_classes=1000, model_name='efficientnet', rescale_input=False, data_format='channels_last', dtype='float32')\n",
            "I0702 06:55:43.613613 140701597378432 ssd_efficientnet_bifpn_feature_extractor.py:146] EfficientDet EfficientNet backbone version: efficientnet-b6\n",
            "I0702 06:55:43.613810 140701597378432 ssd_efficientnet_bifpn_feature_extractor.py:147] EfficientDet BiFPN num filters: 384\n",
            "I0702 06:55:43.613871 140701597378432 ssd_efficientnet_bifpn_feature_extractor.py:149] EfficientDet BiFPN num iterations: 8\n",
            "I0702 06:55:43.615734 140701597378432 efficientnet_model.py:143] round_filter input=32 output=56\n",
            "I0702 06:55:43.634897 140701597378432 efficientnet_model.py:143] round_filter input=32 output=56\n",
            "I0702 06:55:43.635079 140701597378432 efficientnet_model.py:143] round_filter input=16 output=32\n",
            "I0702 06:55:43.866054 140701597378432 efficientnet_model.py:143] round_filter input=16 output=32\n",
            "I0702 06:55:43.866286 140701597378432 efficientnet_model.py:143] round_filter input=24 output=40\n",
            "I0702 06:55:44.436379 140701597378432 efficientnet_model.py:143] round_filter input=24 output=40\n",
            "I0702 06:55:44.436589 140701597378432 efficientnet_model.py:143] round_filter input=40 output=72\n",
            "I0702 06:55:45.043963 140701597378432 efficientnet_model.py:143] round_filter input=40 output=72\n",
            "I0702 06:55:45.044181 140701597378432 efficientnet_model.py:143] round_filter input=80 output=144\n",
            "I0702 06:55:45.880630 140701597378432 efficientnet_model.py:143] round_filter input=80 output=144\n",
            "I0702 06:55:45.880845 140701597378432 efficientnet_model.py:143] round_filter input=112 output=200\n",
            "I0702 06:55:46.747296 140701597378432 efficientnet_model.py:143] round_filter input=112 output=200\n",
            "I0702 06:55:46.747498 140701597378432 efficientnet_model.py:143] round_filter input=192 output=344\n",
            "I0702 06:55:48.310616 140701597378432 efficientnet_model.py:143] round_filter input=192 output=344\n",
            "I0702 06:55:48.310834 140701597378432 efficientnet_model.py:143] round_filter input=320 output=576\n",
            "I0702 06:55:48.911409 140701597378432 efficientnet_model.py:143] round_filter input=1280 output=2304\n",
            "I0702 06:55:49.006492 140701597378432 efficientnet_model.py:453] Building model efficientnet with params ModelConfig(width_coefficient=1.8, depth_coefficient=2.6, resolution=528, dropout_rate=0.5, blocks=(BlockConfig(input_filters=32, output_filters=16, kernel_size=3, num_repeat=1, expand_ratio=1, strides=(1, 1), se_ratio=0.25, id_skip=True, fused_conv=False, conv_type='depthwise'), BlockConfig(input_filters=16, output_filters=24, kernel_size=3, num_repeat=2, expand_ratio=6, strides=(2, 2), se_ratio=0.25, id_skip=True, fused_conv=False, conv_type='depthwise'), BlockConfig(input_filters=24, output_filters=40, kernel_size=5, num_repeat=2, expand_ratio=6, strides=(2, 2), se_ratio=0.25, id_skip=True, fused_conv=False, conv_type='depthwise'), BlockConfig(input_filters=40, output_filters=80, kernel_size=3, num_repeat=3, expand_ratio=6, strides=(2, 2), se_ratio=0.25, id_skip=True, fused_conv=False, conv_type='depthwise'), BlockConfig(input_filters=80, output_filters=112, kernel_size=5, num_repeat=3, expand_ratio=6, strides=(1, 1), se_ratio=0.25, id_skip=True, fused_conv=False, conv_type='depthwise'), BlockConfig(input_filters=112, output_filters=192, kernel_size=5, num_repeat=4, expand_ratio=6, strides=(2, 2), se_ratio=0.25, id_skip=True, fused_conv=False, conv_type='depthwise'), BlockConfig(input_filters=192, output_filters=320, kernel_size=3, num_repeat=1, expand_ratio=6, strides=(1, 1), se_ratio=0.25, id_skip=True, fused_conv=False, conv_type='depthwise')), stem_base_filters=32, top_base_filters=1280, activation='simple_swish', batch_norm='default', bn_momentum=0.99, bn_epsilon=0.001, weight_decay=5e-06, drop_connect_rate=0.2, depth_divisor=8, min_depth=None, use_se=True, input_channels=3, num_classes=1000, model_name='efficientnet', rescale_input=False, data_format='channels_last', dtype='float32')\n",
            "I0702 06:55:49.122467 140701597378432 ssd_efficientnet_bifpn_feature_extractor.py:146] EfficientDet EfficientNet backbone version: efficientnet-b7\n",
            "I0702 06:55:49.122665 140701597378432 ssd_efficientnet_bifpn_feature_extractor.py:147] EfficientDet BiFPN num filters: 384\n",
            "I0702 06:55:49.122751 140701597378432 ssd_efficientnet_bifpn_feature_extractor.py:149] EfficientDet BiFPN num iterations: 8\n",
            "I0702 06:55:49.124732 140701597378432 efficientnet_model.py:143] round_filter input=32 output=64\n",
            "I0702 06:55:49.143371 140701597378432 efficientnet_model.py:143] round_filter input=32 output=64\n",
            "I0702 06:55:49.143557 140701597378432 efficientnet_model.py:143] round_filter input=16 output=32\n",
            "I0702 06:55:49.440127 140701597378432 efficientnet_model.py:143] round_filter input=16 output=32\n",
            "I0702 06:55:49.440332 140701597378432 efficientnet_model.py:143] round_filter input=24 output=48\n",
            "I0702 06:55:50.428739 140701597378432 efficientnet_model.py:143] round_filter input=24 output=48\n",
            "I0702 06:55:50.428962 140701597378432 efficientnet_model.py:143] round_filter input=40 output=80\n",
            "I0702 06:55:51.155325 140701597378432 efficientnet_model.py:143] round_filter input=40 output=80\n",
            "I0702 06:55:51.155539 140701597378432 efficientnet_model.py:143] round_filter input=80 output=160\n",
            "I0702 06:55:52.220716 140701597378432 efficientnet_model.py:143] round_filter input=80 output=160\n",
            "I0702 06:55:52.220922 140701597378432 efficientnet_model.py:143] round_filter input=112 output=224\n",
            "I0702 06:55:53.412832 140701597378432 efficientnet_model.py:143] round_filter input=112 output=224\n",
            "I0702 06:55:53.413030 140701597378432 efficientnet_model.py:143] round_filter input=192 output=384\n",
            "I0702 06:55:55.367316 140701597378432 efficientnet_model.py:143] round_filter input=192 output=384\n",
            "I0702 06:55:55.367531 140701597378432 efficientnet_model.py:143] round_filter input=320 output=640\n",
            "I0702 06:55:56.271678 140701597378432 efficientnet_model.py:143] round_filter input=1280 output=2560\n",
            "I0702 06:55:56.374336 140701597378432 efficientnet_model.py:453] Building model efficientnet with params ModelConfig(width_coefficient=2.0, depth_coefficient=3.1, resolution=600, dropout_rate=0.5, blocks=(BlockConfig(input_filters=32, output_filters=16, kernel_size=3, num_repeat=1, expand_ratio=1, strides=(1, 1), se_ratio=0.25, id_skip=True, fused_conv=False, conv_type='depthwise'), BlockConfig(input_filters=16, output_filters=24, kernel_size=3, num_repeat=2, expand_ratio=6, strides=(2, 2), se_ratio=0.25, id_skip=True, fused_conv=False, conv_type='depthwise'), BlockConfig(input_filters=24, output_filters=40, kernel_size=5, num_repeat=2, expand_ratio=6, strides=(2, 2), se_ratio=0.25, id_skip=True, fused_conv=False, conv_type='depthwise'), BlockConfig(input_filters=40, output_filters=80, kernel_size=3, num_repeat=3, expand_ratio=6, strides=(2, 2), se_ratio=0.25, id_skip=True, fused_conv=False, conv_type='depthwise'), BlockConfig(input_filters=80, output_filters=112, kernel_size=5, num_repeat=3, expand_ratio=6, strides=(1, 1), se_ratio=0.25, id_skip=True, fused_conv=False, conv_type='depthwise'), BlockConfig(input_filters=112, output_filters=192, kernel_size=5, num_repeat=4, expand_ratio=6, strides=(2, 2), se_ratio=0.25, id_skip=True, fused_conv=False, conv_type='depthwise'), BlockConfig(input_filters=192, output_filters=320, kernel_size=3, num_repeat=1, expand_ratio=6, strides=(1, 1), se_ratio=0.25, id_skip=True, fused_conv=False, conv_type='depthwise')), stem_base_filters=32, top_base_filters=1280, activation='simple_swish', batch_norm='default', bn_momentum=0.99, bn_epsilon=0.001, weight_decay=5e-06, drop_connect_rate=0.2, depth_divisor=8, min_depth=None, use_se=True, input_channels=3, num_classes=1000, model_name='efficientnet', rescale_input=False, data_format='channels_last', dtype='float32')\n",
            "INFO:tensorflow:time(__main__.ModelBuilderTF2Test.test_create_ssd_models_from_config): 31.89s\n",
            "I0702 06:55:56.512026 140701597378432 test_util.py:2459] time(__main__.ModelBuilderTF2Test.test_create_ssd_models_from_config): 31.89s\n",
            "[       OK ] ModelBuilderTF2Test.test_create_ssd_models_from_config\n",
            "[ RUN      ] ModelBuilderTF2Test.test_invalid_faster_rcnn_batchnorm_update\n",
            "INFO:tensorflow:time(__main__.ModelBuilderTF2Test.test_invalid_faster_rcnn_batchnorm_update): 0.0s\n",
            "I0702 06:55:56.518920 140701597378432 test_util.py:2459] time(__main__.ModelBuilderTF2Test.test_invalid_faster_rcnn_batchnorm_update): 0.0s\n",
            "[       OK ] ModelBuilderTF2Test.test_invalid_faster_rcnn_batchnorm_update\n",
            "[ RUN      ] ModelBuilderTF2Test.test_invalid_first_stage_nms_iou_threshold\n",
            "INFO:tensorflow:time(__main__.ModelBuilderTF2Test.test_invalid_first_stage_nms_iou_threshold): 0.0s\n",
            "I0702 06:55:56.520976 140701597378432 test_util.py:2459] time(__main__.ModelBuilderTF2Test.test_invalid_first_stage_nms_iou_threshold): 0.0s\n",
            "[       OK ] ModelBuilderTF2Test.test_invalid_first_stage_nms_iou_threshold\n",
            "[ RUN      ] ModelBuilderTF2Test.test_invalid_model_config_proto\n",
            "INFO:tensorflow:time(__main__.ModelBuilderTF2Test.test_invalid_model_config_proto): 0.0s\n",
            "I0702 06:55:56.521581 140701597378432 test_util.py:2459] time(__main__.ModelBuilderTF2Test.test_invalid_model_config_proto): 0.0s\n",
            "[       OK ] ModelBuilderTF2Test.test_invalid_model_config_proto\n",
            "[ RUN      ] ModelBuilderTF2Test.test_invalid_second_stage_batch_size\n",
            "INFO:tensorflow:time(__main__.ModelBuilderTF2Test.test_invalid_second_stage_batch_size): 0.0s\n",
            "I0702 06:55:56.523237 140701597378432 test_util.py:2459] time(__main__.ModelBuilderTF2Test.test_invalid_second_stage_batch_size): 0.0s\n",
            "[       OK ] ModelBuilderTF2Test.test_invalid_second_stage_batch_size\n",
            "[ RUN      ] ModelBuilderTF2Test.test_session\n",
            "[  SKIPPED ] ModelBuilderTF2Test.test_session\n",
            "[ RUN      ] ModelBuilderTF2Test.test_unknown_faster_rcnn_feature_extractor\n",
            "INFO:tensorflow:time(__main__.ModelBuilderTF2Test.test_unknown_faster_rcnn_feature_extractor): 0.0s\n",
            "I0702 06:55:56.524703 140701597378432 test_util.py:2459] time(__main__.ModelBuilderTF2Test.test_unknown_faster_rcnn_feature_extractor): 0.0s\n",
            "[       OK ] ModelBuilderTF2Test.test_unknown_faster_rcnn_feature_extractor\n",
            "[ RUN      ] ModelBuilderTF2Test.test_unknown_meta_architecture\n",
            "INFO:tensorflow:time(__main__.ModelBuilderTF2Test.test_unknown_meta_architecture): 0.0s\n",
            "I0702 06:55:56.525195 140701597378432 test_util.py:2459] time(__main__.ModelBuilderTF2Test.test_unknown_meta_architecture): 0.0s\n",
            "[       OK ] ModelBuilderTF2Test.test_unknown_meta_architecture\n",
            "[ RUN      ] ModelBuilderTF2Test.test_unknown_ssd_feature_extractor\n",
            "INFO:tensorflow:time(__main__.ModelBuilderTF2Test.test_unknown_ssd_feature_extractor): 0.0s\n",
            "I0702 06:55:56.526269 140701597378432 test_util.py:2459] time(__main__.ModelBuilderTF2Test.test_unknown_ssd_feature_extractor): 0.0s\n",
            "[       OK ] ModelBuilderTF2Test.test_unknown_ssd_feature_extractor\n",
            "----------------------------------------------------------------------\n",
            "Ran 24 tests in 38.586s\n",
            "\n",
            "OK (skipped=1)\n"
          ]
        }
      ],
      "source": [
        "!python object_detection/builders/model_builder_tf2_test.py\n"
      ]
    },
    {
      "cell_type": "code",
      "execution_count": null,
      "metadata": {
        "colab": {
          "base_uri": "https://localhost:8080/"
        },
        "id": "UaDYusduQZrF",
        "outputId": "3a09480f-8ece-4885-9391-ae1d372f1076"
      },
      "outputs": [
        {
          "output_type": "stream",
          "name": "stdout",
          "text": [
            "/content/drive/MyDrive/training_demo/pre-trained-models\n"
          ]
        }
      ],
      "source": [
        "cd /content/drive/MyDrive/training_demo/pre-trained-models\n"
      ]
    },
    {
      "cell_type": "code",
      "execution_count": null,
      "metadata": {
        "colab": {
          "base_uri": "https://localhost:8080/"
        },
        "id": "PpzMmAJIRpLw",
        "outputId": "17267313-687a-4392-c4c2-00fba4eabbfc"
      },
      "outputs": [
        {
          "output_type": "stream",
          "name": "stdout",
          "text": [
            "--2022-07-02 04:15:54--  http://download.tensorflow.org/models/object_detection/tf2/20200711/ssd_resnet101_v1_fpn_640x640_coco17_tpu-8.tar.gz\n",
            "Resolving download.tensorflow.org (download.tensorflow.org)... 74.125.202.128, 2607:f8b0:4001:c06::80\n",
            "Connecting to download.tensorflow.org (download.tensorflow.org)|74.125.202.128|:80... connected.\n",
            "HTTP request sent, awaiting response... 200 OK\n",
            "Length: 386527459 (369M) [application/x-tar]\n",
            "Saving to: ‘ssd_resnet101_v1_fpn_640x640_coco17_tpu-8.tar.gz.1’\n",
            "\n",
            "ssd_resnet101_v1_fp 100%[===================>] 368.62M   107MB/s    in 3.5s    \n",
            "\n",
            "2022-07-02 04:15:58 (105 MB/s) - ‘ssd_resnet101_v1_fpn_640x640_coco17_tpu-8.tar.gz.1’ saved [386527459/386527459]\n",
            "\n"
          ]
        }
      ],
      "source": [
        "!wget http://download.tensorflow.org/models/object_detection/tf2/20200711/ssd_resnet101_v1_fpn_640x640_coco17_tpu-8.tar.gz"
      ]
    },
    {
      "cell_type": "code",
      "execution_count": null,
      "metadata": {
        "colab": {
          "base_uri": "https://localhost:8080/"
        },
        "id": "xT0yMkC6SE9L",
        "outputId": "6dafb00e-fb17-4256-8956-4af8f5e80c5a"
      },
      "outputs": [
        {
          "output_type": "stream",
          "name": "stdout",
          "text": [
            "ssd_resnet101_v1_fpn_640x640_coco17_tpu-8/\n",
            "ssd_resnet101_v1_fpn_640x640_coco17_tpu-8/checkpoint/\n",
            "ssd_resnet101_v1_fpn_640x640_coco17_tpu-8/checkpoint/ckpt-0.data-00000-of-00001\n",
            "ssd_resnet101_v1_fpn_640x640_coco17_tpu-8/checkpoint/checkpoint\n",
            "ssd_resnet101_v1_fpn_640x640_coco17_tpu-8/checkpoint/ckpt-0.index\n",
            "ssd_resnet101_v1_fpn_640x640_coco17_tpu-8/pipeline.config\n",
            "ssd_resnet101_v1_fpn_640x640_coco17_tpu-8/saved_model/\n",
            "ssd_resnet101_v1_fpn_640x640_coco17_tpu-8/saved_model/saved_model.pb\n",
            "ssd_resnet101_v1_fpn_640x640_coco17_tpu-8/saved_model/assets/\n",
            "ssd_resnet101_v1_fpn_640x640_coco17_tpu-8/saved_model/variables/\n",
            "ssd_resnet101_v1_fpn_640x640_coco17_tpu-8/saved_model/variables/variables.data-00000-of-00001\n",
            "ssd_resnet101_v1_fpn_640x640_coco17_tpu-8/saved_model/variables/variables.index\n"
          ]
        }
      ],
      "source": [
        "!tar -xvf ssd_resnet101_v1_fpn_640x640_coco17_tpu-8.tar.gz"
      ]
    },
    {
      "cell_type": "code",
      "execution_count": null,
      "metadata": {
        "colab": {
          "base_uri": "https://localhost:8080/"
        },
        "id": "2Z7PKhDZSR_6",
        "outputId": "9228a558-0f2a-4975-8947-6c03ed810065"
      },
      "outputs": [
        {
          "output_type": "stream",
          "name": "stdout",
          "text": [
            "/content/drive/MyDrive/training_demo\n"
          ]
        }
      ],
      "source": [
        "cd /content/drive/MyDrive/training_demo"
      ]
    },
    {
      "cell_type": "code",
      "execution_count": null,
      "metadata": {
        "colab": {
          "base_uri": "https://localhost:8080/"
        },
        "id": "sFFLFcbmT3oF",
        "outputId": "6443a6d5-65d5-43a7-b452-35d290f03476"
      },
      "outputs": [
        {
          "name": "stdout",
          "output_type": "stream",
          "text": [
            "Traceback (most recent call last):\n",
            "  File \"generate_tfrecord.py\", line 172, in <module>\n",
            "    tf.app.run()\n",
            "  File \"/usr/local/lib/python3.7/dist-packages/tensorflow/python/platform/app.py\", line 36, in run\n",
            "    _run(main=main, argv=argv, flags_parser=_parse_flags_tolerate_undef)\n",
            "  File \"/usr/local/lib/python3.7/dist-packages/absl/app.py\", line 312, in run\n",
            "    _run_main(main, args)\n",
            "  File \"/usr/local/lib/python3.7/dist-packages/absl/app.py\", line 258, in _run_main\n",
            "    sys.exit(main(argv))\n",
            "  File \"generate_tfrecord.py\", line 162, in main\n",
            "    tf_example = create_tf_example(group, path)\n",
            "  File \"generate_tfrecord.py\", line 136, in create_tf_example\n",
            "    classes.append(class_text_to_int(row['class']))\n",
            "  File \"generate_tfrecord.py\", line 105, in class_text_to_int\n",
            "    return label_map_dict[row_label]\n",
            "KeyError: '\\\\'\n",
            "Traceback (most recent call last):\n",
            "  File \"generate_tfrecord.py\", line 172, in <module>\n",
            "    tf.app.run()\n",
            "  File \"/usr/local/lib/python3.7/dist-packages/tensorflow/python/platform/app.py\", line 36, in run\n",
            "    _run(main=main, argv=argv, flags_parser=_parse_flags_tolerate_undef)\n",
            "  File \"/usr/local/lib/python3.7/dist-packages/absl/app.py\", line 312, in run\n",
            "    _run_main(main, args)\n",
            "  File \"/usr/local/lib/python3.7/dist-packages/absl/app.py\", line 258, in _run_main\n",
            "    sys.exit(main(argv))\n",
            "  File \"generate_tfrecord.py\", line 162, in main\n",
            "    tf_example = create_tf_example(group, path)\n",
            "  File \"generate_tfrecord.py\", line 116, in create_tf_example\n",
            "    encoded_jpg = fid.read()\n",
            "  File \"/usr/local/lib/python3.7/dist-packages/tensorflow/python/lib/io/file_io.py\", line 114, in read\n",
            "    self._preread_check()\n",
            "  File \"/usr/local/lib/python3.7/dist-packages/tensorflow/python/lib/io/file_io.py\", line 77, in _preread_check\n",
            "    compat.path_to_str(self.__name), 1024 * 512)\n",
            "tensorflow.python.framework.errors_impl.NotFoundError: /content/training_demo/images/test/download (10).jpg; No such file or directory\n"
          ]
        }
      ],
      "source": [
        "# Create train data:\n",
        "!python generate_tfrecord.py -x /content/training_demo/images/train -l /content/training_demo/annotations/label_map.pbtxt -o /content/training_demo/annotations/train.record\n",
        "\n",
        "# Create test data:\n",
        "!python generate_tfrecord.py -x /content/training_demo/images/test -l /content/training_demo/annotations/label_map.pbtxt -o /content/training_demo/annotations/test.record"
      ]
    },
    {
      "cell_type": "code",
      "execution_count": null,
      "metadata": {
        "colab": {
          "base_uri": "https://localhost:8080/"
        },
        "id": "oDz0uRGqUdPv",
        "outputId": "e092e125-eb9f-414f-aec1-12456b7de985"
      },
      "outputs": [
        {
          "output_type": "stream",
          "name": "stdout",
          "text": [
            "2022-07-02 04:21:06.089980: W tensorflow/core/common_runtime/gpu/gpu_bfc_allocator.cc:42] Overriding orig_value setting because the TF_FORCE_GPU_ALLOW_GROWTH environment variable is set. Original config value was 0.\n",
            "INFO:tensorflow:Using MirroredStrategy with devices ('/job:localhost/replica:0/task:0/device:GPU:0',)\n",
            "I0702 04:21:06.096386 140554828924800 mirrored_strategy.py:374] Using MirroredStrategy with devices ('/job:localhost/replica:0/task:0/device:GPU:0',)\n",
            "INFO:tensorflow:Maybe overwriting train_steps: None\n",
            "I0702 04:21:06.102180 140554828924800 config_util.py:552] Maybe overwriting train_steps: None\n",
            "INFO:tensorflow:Maybe overwriting use_bfloat16: False\n",
            "I0702 04:21:06.102352 140554828924800 config_util.py:552] Maybe overwriting use_bfloat16: False\n",
            "WARNING:tensorflow:From /usr/local/lib/python3.7/dist-packages/object_detection/model_lib_v2.py:564: StrategyBase.experimental_distribute_datasets_from_function (from tensorflow.python.distribute.distribute_lib) is deprecated and will be removed in a future version.\n",
            "Instructions for updating:\n",
            "rename to distribute_datasets_from_function\n",
            "W0702 04:21:06.255393 140554828924800 deprecation.py:356] From /usr/local/lib/python3.7/dist-packages/object_detection/model_lib_v2.py:564: StrategyBase.experimental_distribute_datasets_from_function (from tensorflow.python.distribute.distribute_lib) is deprecated and will be removed in a future version.\n",
            "Instructions for updating:\n",
            "rename to distribute_datasets_from_function\n",
            "INFO:tensorflow:Reading unweighted datasets: ['/content/drive/MyDrive/training_demo/annotations/train.record']\n",
            "I0702 04:21:06.263901 140554828924800 dataset_builder.py:162] Reading unweighted datasets: ['/content/drive/MyDrive/training_demo/annotations/train.record']\n",
            "INFO:tensorflow:Reading record datasets for input file: ['/content/drive/MyDrive/training_demo/annotations/train.record']\n",
            "I0702 04:21:06.264352 140554828924800 dataset_builder.py:79] Reading record datasets for input file: ['/content/drive/MyDrive/training_demo/annotations/train.record']\n",
            "INFO:tensorflow:Number of filenames to read: 1\n",
            "I0702 04:21:06.264485 140554828924800 dataset_builder.py:80] Number of filenames to read: 1\n",
            "WARNING:tensorflow:num_readers has been reduced to 1 to match input file shards.\n",
            "W0702 04:21:06.264570 140554828924800 dataset_builder.py:87] num_readers has been reduced to 1 to match input file shards.\n",
            "WARNING:tensorflow:From /usr/local/lib/python3.7/dist-packages/object_detection/builders/dataset_builder.py:104: parallel_interleave (from tensorflow.python.data.experimental.ops.interleave_ops) is deprecated and will be removed in a future version.\n",
            "Instructions for updating:\n",
            "Use `tf.data.Dataset.interleave(map_func, cycle_length, block_length, num_parallel_calls=tf.data.AUTOTUNE)` instead. If sloppy execution is desired, use `tf.data.Options.deterministic`.\n",
            "W0702 04:21:06.267184 140554828924800 deprecation.py:356] From /usr/local/lib/python3.7/dist-packages/object_detection/builders/dataset_builder.py:104: parallel_interleave (from tensorflow.python.data.experimental.ops.interleave_ops) is deprecated and will be removed in a future version.\n",
            "Instructions for updating:\n",
            "Use `tf.data.Dataset.interleave(map_func, cycle_length, block_length, num_parallel_calls=tf.data.AUTOTUNE)` instead. If sloppy execution is desired, use `tf.data.Options.deterministic`.\n",
            "WARNING:tensorflow:From /usr/local/lib/python3.7/dist-packages/object_detection/builders/dataset_builder.py:236: DatasetV1.map_with_legacy_function (from tensorflow.python.data.ops.dataset_ops) is deprecated and will be removed in a future version.\n",
            "Instructions for updating:\n",
            "Use `tf.data.Dataset.map()\n",
            "W0702 04:21:06.287016 140554828924800 deprecation.py:356] From /usr/local/lib/python3.7/dist-packages/object_detection/builders/dataset_builder.py:236: DatasetV1.map_with_legacy_function (from tensorflow.python.data.ops.dataset_ops) is deprecated and will be removed in a future version.\n",
            "Instructions for updating:\n",
            "Use `tf.data.Dataset.map()\n",
            "WARNING:tensorflow:From /usr/local/lib/python3.7/dist-packages/tensorflow/python/util/dispatch.py:1082: sparse_to_dense (from tensorflow.python.ops.sparse_ops) is deprecated and will be removed in a future version.\n",
            "Instructions for updating:\n",
            "Create a `tf.sparse.SparseTensor` and use `tf.sparse.to_dense` instead.\n",
            "W0702 04:21:12.989559 140554828924800 deprecation.py:356] From /usr/local/lib/python3.7/dist-packages/tensorflow/python/util/dispatch.py:1082: sparse_to_dense (from tensorflow.python.ops.sparse_ops) is deprecated and will be removed in a future version.\n",
            "Instructions for updating:\n",
            "Create a `tf.sparse.SparseTensor` and use `tf.sparse.to_dense` instead.\n",
            "WARNING:tensorflow:From /usr/local/lib/python3.7/dist-packages/tensorflow/python/util/dispatch.py:1082: sample_distorted_bounding_box (from tensorflow.python.ops.image_ops_impl) is deprecated and will be removed in a future version.\n",
            "Instructions for updating:\n",
            "`seed2` arg is deprecated.Use sample_distorted_bounding_box_v2 instead.\n",
            "W0702 04:21:17.026377 140554828924800 deprecation.py:356] From /usr/local/lib/python3.7/dist-packages/tensorflow/python/util/dispatch.py:1082: sample_distorted_bounding_box (from tensorflow.python.ops.image_ops_impl) is deprecated and will be removed in a future version.\n",
            "Instructions for updating:\n",
            "`seed2` arg is deprecated.Use sample_distorted_bounding_box_v2 instead.\n",
            "WARNING:tensorflow:From /usr/local/lib/python3.7/dist-packages/tensorflow/python/util/dispatch.py:1082: to_float (from tensorflow.python.ops.math_ops) is deprecated and will be removed in a future version.\n",
            "Instructions for updating:\n",
            "Use `tf.cast` instead.\n",
            "W0702 04:21:18.860916 140554828924800 deprecation.py:356] From /usr/local/lib/python3.7/dist-packages/tensorflow/python/util/dispatch.py:1082: to_float (from tensorflow.python.ops.math_ops) is deprecated and will be removed in a future version.\n",
            "Instructions for updating:\n",
            "Use `tf.cast` instead.\n",
            "/usr/local/lib/python3.7/dist-packages/keras/backend.py:450: UserWarning: `tf.keras.backend.set_learning_phase` is deprecated and will be removed after 2020-10-11. To update it, simply pass a True/False value to the `training` argument of the `__call__` method of your layer or model.\n",
            "  warnings.warn('`tf.keras.backend.set_learning_phase` is deprecated and '\n",
            "INFO:tensorflow:Reduce to /job:localhost/replica:0/task:0/device:CPU:0 then broadcast to ('/job:localhost/replica:0/task:0/device:CPU:0',).\n",
            "I0702 04:21:49.155344 140554828924800 cross_device_ops.py:618] Reduce to /job:localhost/replica:0/task:0/device:CPU:0 then broadcast to ('/job:localhost/replica:0/task:0/device:CPU:0',).\n",
            "INFO:tensorflow:Reduce to /job:localhost/replica:0/task:0/device:CPU:0 then broadcast to ('/job:localhost/replica:0/task:0/device:CPU:0',).\n",
            "I0702 04:21:49.156945 140554828924800 cross_device_ops.py:618] Reduce to /job:localhost/replica:0/task:0/device:CPU:0 then broadcast to ('/job:localhost/replica:0/task:0/device:CPU:0',).\n",
            "INFO:tensorflow:Reduce to /job:localhost/replica:0/task:0/device:CPU:0 then broadcast to ('/job:localhost/replica:0/task:0/device:CPU:0',).\n",
            "I0702 04:21:49.159002 140554828924800 cross_device_ops.py:618] Reduce to /job:localhost/replica:0/task:0/device:CPU:0 then broadcast to ('/job:localhost/replica:0/task:0/device:CPU:0',).\n",
            "INFO:tensorflow:Reduce to /job:localhost/replica:0/task:0/device:CPU:0 then broadcast to ('/job:localhost/replica:0/task:0/device:CPU:0',).\n",
            "I0702 04:21:49.159875 140554828924800 cross_device_ops.py:618] Reduce to /job:localhost/replica:0/task:0/device:CPU:0 then broadcast to ('/job:localhost/replica:0/task:0/device:CPU:0',).\n",
            "INFO:tensorflow:Reduce to /job:localhost/replica:0/task:0/device:CPU:0 then broadcast to ('/job:localhost/replica:0/task:0/device:CPU:0',).\n",
            "I0702 04:21:49.161932 140554828924800 cross_device_ops.py:618] Reduce to /job:localhost/replica:0/task:0/device:CPU:0 then broadcast to ('/job:localhost/replica:0/task:0/device:CPU:0',).\n",
            "INFO:tensorflow:Reduce to /job:localhost/replica:0/task:0/device:CPU:0 then broadcast to ('/job:localhost/replica:0/task:0/device:CPU:0',).\n",
            "I0702 04:21:49.162806 140554828924800 cross_device_ops.py:618] Reduce to /job:localhost/replica:0/task:0/device:CPU:0 then broadcast to ('/job:localhost/replica:0/task:0/device:CPU:0',).\n",
            "INFO:tensorflow:Reduce to /job:localhost/replica:0/task:0/device:CPU:0 then broadcast to ('/job:localhost/replica:0/task:0/device:CPU:0',).\n",
            "I0702 04:21:49.165250 140554828924800 cross_device_ops.py:618] Reduce to /job:localhost/replica:0/task:0/device:CPU:0 then broadcast to ('/job:localhost/replica:0/task:0/device:CPU:0',).\n",
            "INFO:tensorflow:Reduce to /job:localhost/replica:0/task:0/device:CPU:0 then broadcast to ('/job:localhost/replica:0/task:0/device:CPU:0',).\n",
            "I0702 04:21:49.166125 140554828924800 cross_device_ops.py:618] Reduce to /job:localhost/replica:0/task:0/device:CPU:0 then broadcast to ('/job:localhost/replica:0/task:0/device:CPU:0',).\n",
            "INFO:tensorflow:Reduce to /job:localhost/replica:0/task:0/device:CPU:0 then broadcast to ('/job:localhost/replica:0/task:0/device:CPU:0',).\n",
            "I0702 04:21:49.167770 140554828924800 cross_device_ops.py:618] Reduce to /job:localhost/replica:0/task:0/device:CPU:0 then broadcast to ('/job:localhost/replica:0/task:0/device:CPU:0',).\n",
            "INFO:tensorflow:Reduce to /job:localhost/replica:0/task:0/device:CPU:0 then broadcast to ('/job:localhost/replica:0/task:0/device:CPU:0',).\n",
            "I0702 04:21:49.168623 140554828924800 cross_device_ops.py:618] Reduce to /job:localhost/replica:0/task:0/device:CPU:0 then broadcast to ('/job:localhost/replica:0/task:0/device:CPU:0',).\n",
            "WARNING:tensorflow:From /usr/local/lib/python3.7/dist-packages/tensorflow/python/util/deprecation.py:629: calling map_fn_v2 (from tensorflow.python.ops.map_fn) with dtype is deprecated and will be removed in a future version.\n",
            "Instructions for updating:\n",
            "Use fn_output_signature instead\n",
            "W0702 04:21:51.104120 140549848749824 deprecation.py:560] From /usr/local/lib/python3.7/dist-packages/tensorflow/python/util/deprecation.py:629: calling map_fn_v2 (from tensorflow.python.ops.map_fn) with dtype is deprecated and will be removed in a future version.\n",
            "Instructions for updating:\n",
            "Use fn_output_signature instead\n",
            "INFO:tensorflow:Step 100 per-step time 1.301s\n",
            "I0702 04:24:00.806242 140554828924800 model_lib_v2.py:707] Step 100 per-step time 1.301s\n",
            "INFO:tensorflow:{'Loss/classification_loss': 1.0822153,\n",
            " 'Loss/localization_loss': 0.6684539,\n",
            " 'Loss/regularization_loss': 4.4677157,\n",
            " 'Loss/total_loss': 6.2183847,\n",
            " 'learning_rate': 0.014666351}\n",
            "I0702 04:24:00.806679 140554828924800 model_lib_v2.py:708] {'Loss/classification_loss': 1.0822153,\n",
            " 'Loss/localization_loss': 0.6684539,\n",
            " 'Loss/regularization_loss': 4.4677157,\n",
            " 'Loss/total_loss': 6.2183847,\n",
            " 'learning_rate': 0.014666351}\n",
            "INFO:tensorflow:Step 200 per-step time 0.790s\n",
            "I0702 04:25:19.825225 140554828924800 model_lib_v2.py:707] Step 200 per-step time 0.790s\n",
            "INFO:tensorflow:{'Loss/classification_loss': 0.68813694,\n",
            " 'Loss/localization_loss': 0.4423761,\n",
            " 'Loss/regularization_loss': 4.49881,\n",
            " 'Loss/total_loss': 5.629323,\n",
            " 'learning_rate': 0.0159997}\n",
            "I0702 04:25:19.825544 140554828924800 model_lib_v2.py:708] {'Loss/classification_loss': 0.68813694,\n",
            " 'Loss/localization_loss': 0.4423761,\n",
            " 'Loss/regularization_loss': 4.49881,\n",
            " 'Loss/total_loss': 5.629323,\n",
            " 'learning_rate': 0.0159997}\n",
            "INFO:tensorflow:Step 300 per-step time 0.789s\n",
            "I0702 04:26:38.718050 140554828924800 model_lib_v2.py:707] Step 300 per-step time 0.789s\n",
            "INFO:tensorflow:{'Loss/classification_loss': 4.2522087,\n",
            " 'Loss/localization_loss': 0.66735774,\n",
            " 'Loss/regularization_loss': 6.078411,\n",
            " 'Loss/total_loss': 10.997978,\n",
            " 'learning_rate': 0.01733305}\n",
            "I0702 04:26:38.718441 140554828924800 model_lib_v2.py:708] {'Loss/classification_loss': 4.2522087,\n",
            " 'Loss/localization_loss': 0.66735774,\n",
            " 'Loss/regularization_loss': 6.078411,\n",
            " 'Loss/total_loss': 10.997978,\n",
            " 'learning_rate': 0.01733305}\n",
            "INFO:tensorflow:Step 400 per-step time 0.791s\n",
            "I0702 04:27:57.847294 140554828924800 model_lib_v2.py:707] Step 400 per-step time 0.791s\n",
            "INFO:tensorflow:{'Loss/classification_loss': 1.0375571,\n",
            " 'Loss/localization_loss': 0.7603682,\n",
            " 'Loss/regularization_loss': 34.948788,\n",
            " 'Loss/total_loss': 36.74671,\n",
            " 'learning_rate': 0.0186664}\n",
            "I0702 04:27:57.847604 140554828924800 model_lib_v2.py:708] {'Loss/classification_loss': 1.0375571,\n",
            " 'Loss/localization_loss': 0.7603682,\n",
            " 'Loss/regularization_loss': 34.948788,\n",
            " 'Loss/total_loss': 36.74671,\n",
            " 'learning_rate': 0.0186664}\n",
            "INFO:tensorflow:Step 500 per-step time 0.789s\n",
            "I0702 04:29:16.713297 140554828924800 model_lib_v2.py:707] Step 500 per-step time 0.789s\n",
            "INFO:tensorflow:{'Loss/classification_loss': 0.8089675,\n",
            " 'Loss/localization_loss': 0.48998445,\n",
            " 'Loss/regularization_loss': 39.148182,\n",
            " 'Loss/total_loss': 40.447132,\n",
            " 'learning_rate': 0.01999975}\n",
            "I0702 04:29:16.713665 140554828924800 model_lib_v2.py:708] {'Loss/classification_loss': 0.8089675,\n",
            " 'Loss/localization_loss': 0.48998445,\n",
            " 'Loss/regularization_loss': 39.148182,\n",
            " 'Loss/total_loss': 40.447132,\n",
            " 'learning_rate': 0.01999975}\n",
            "INFO:tensorflow:Step 600 per-step time 0.788s\n",
            "I0702 04:30:35.551716 140554828924800 model_lib_v2.py:707] Step 600 per-step time 0.788s\n",
            "INFO:tensorflow:{'Loss/classification_loss': 1.0444971,\n",
            " 'Loss/localization_loss': 0.49818292,\n",
            " 'Loss/regularization_loss': 38.558235,\n",
            " 'Loss/total_loss': 40.100914,\n",
            " 'learning_rate': 0.0213331}\n",
            "I0702 04:30:35.552075 140554828924800 model_lib_v2.py:708] {'Loss/classification_loss': 1.0444971,\n",
            " 'Loss/localization_loss': 0.49818292,\n",
            " 'Loss/regularization_loss': 38.558235,\n",
            " 'Loss/total_loss': 40.100914,\n",
            " 'learning_rate': 0.0213331}\n",
            "INFO:tensorflow:Step 700 per-step time 0.790s\n",
            "I0702 04:31:54.513686 140554828924800 model_lib_v2.py:707] Step 700 per-step time 0.790s\n",
            "INFO:tensorflow:{'Loss/classification_loss': 0.89361936,\n",
            " 'Loss/localization_loss': 0.61167264,\n",
            " 'Loss/regularization_loss': 37.889347,\n",
            " 'Loss/total_loss': 39.394638,\n",
            " 'learning_rate': 0.02266645}\n",
            "I0702 04:31:54.514026 140554828924800 model_lib_v2.py:708] {'Loss/classification_loss': 0.89361936,\n",
            " 'Loss/localization_loss': 0.61167264,\n",
            " 'Loss/regularization_loss': 37.889347,\n",
            " 'Loss/total_loss': 39.394638,\n",
            " 'learning_rate': 0.02266645}\n",
            "INFO:tensorflow:Step 800 per-step time 0.790s\n",
            "I0702 04:33:13.540870 140554828924800 model_lib_v2.py:707] Step 800 per-step time 0.790s\n",
            "INFO:tensorflow:{'Loss/classification_loss': 0.9002476,\n",
            " 'Loss/localization_loss': 0.683456,\n",
            " 'Loss/regularization_loss': 37.192593,\n",
            " 'Loss/total_loss': 38.776295,\n",
            " 'learning_rate': 0.023999799}\n",
            "I0702 04:33:13.541192 140554828924800 model_lib_v2.py:708] {'Loss/classification_loss': 0.9002476,\n",
            " 'Loss/localization_loss': 0.683456,\n",
            " 'Loss/regularization_loss': 37.192593,\n",
            " 'Loss/total_loss': 38.776295,\n",
            " 'learning_rate': 0.023999799}\n",
            "INFO:tensorflow:Step 900 per-step time 0.788s\n",
            "I0702 04:34:32.329580 140554828924800 model_lib_v2.py:707] Step 900 per-step time 0.788s\n",
            "INFO:tensorflow:{'Loss/classification_loss': 0.79664904,\n",
            " 'Loss/localization_loss': 0.6246579,\n",
            " 'Loss/regularization_loss': 36.47021,\n",
            " 'Loss/total_loss': 37.891518,\n",
            " 'learning_rate': 0.025333151}\n",
            "I0702 04:34:32.329918 140554828924800 model_lib_v2.py:708] {'Loss/classification_loss': 0.79664904,\n",
            " 'Loss/localization_loss': 0.6246579,\n",
            " 'Loss/regularization_loss': 36.47021,\n",
            " 'Loss/total_loss': 37.891518,\n",
            " 'learning_rate': 0.025333151}\n",
            "INFO:tensorflow:Step 1000 per-step time 0.788s\n",
            "I0702 04:35:51.084507 140554828924800 model_lib_v2.py:707] Step 1000 per-step time 0.788s\n",
            "INFO:tensorflow:{'Loss/classification_loss': 0.82474357,\n",
            " 'Loss/localization_loss': 0.58348006,\n",
            " 'Loss/regularization_loss': 35.724907,\n",
            " 'Loss/total_loss': 37.13313,\n",
            " 'learning_rate': 0.0266665}\n",
            "I0702 04:35:51.084821 140554828924800 model_lib_v2.py:708] {'Loss/classification_loss': 0.82474357,\n",
            " 'Loss/localization_loss': 0.58348006,\n",
            " 'Loss/regularization_loss': 35.724907,\n",
            " 'Loss/total_loss': 37.13313,\n",
            " 'learning_rate': 0.0266665}\n",
            "INFO:tensorflow:Step 1100 per-step time 0.814s\n",
            "I0702 04:37:12.435557 140554828924800 model_lib_v2.py:707] Step 1100 per-step time 0.814s\n",
            "INFO:tensorflow:{'Loss/classification_loss': 0.8323976,\n",
            " 'Loss/localization_loss': 0.624853,\n",
            " 'Loss/regularization_loss': 34.957115,\n",
            " 'Loss/total_loss': 36.414368,\n",
            " 'learning_rate': 0.02799985}\n",
            "I0702 04:37:12.435924 140554828924800 model_lib_v2.py:708] {'Loss/classification_loss': 0.8323976,\n",
            " 'Loss/localization_loss': 0.624853,\n",
            " 'Loss/regularization_loss': 34.957115,\n",
            " 'Loss/total_loss': 36.414368,\n",
            " 'learning_rate': 0.02799985}\n",
            "INFO:tensorflow:Step 1200 per-step time 0.789s\n",
            "I0702 04:38:31.318336 140554828924800 model_lib_v2.py:707] Step 1200 per-step time 0.789s\n",
            "INFO:tensorflow:{'Loss/classification_loss': 0.67864794,\n",
            " 'Loss/localization_loss': 0.40126163,\n",
            " 'Loss/regularization_loss': 34.16933,\n",
            " 'Loss/total_loss': 35.24924,\n",
            " 'learning_rate': 0.0293332}\n",
            "I0702 04:38:31.318677 140554828924800 model_lib_v2.py:708] {'Loss/classification_loss': 0.67864794,\n",
            " 'Loss/localization_loss': 0.40126163,\n",
            " 'Loss/regularization_loss': 34.16933,\n",
            " 'Loss/total_loss': 35.24924,\n",
            " 'learning_rate': 0.0293332}\n",
            "INFO:tensorflow:Step 1300 per-step time 0.789s\n",
            "I0702 04:39:50.250847 140554828924800 model_lib_v2.py:707] Step 1300 per-step time 0.789s\n",
            "INFO:tensorflow:{'Loss/classification_loss': 0.7000076,\n",
            " 'Loss/localization_loss': 0.41022584,\n",
            " 'Loss/regularization_loss': 33.363766,\n",
            " 'Loss/total_loss': 34.474,\n",
            " 'learning_rate': 0.03066655}\n",
            "I0702 04:39:50.251209 140554828924800 model_lib_v2.py:708] {'Loss/classification_loss': 0.7000076,\n",
            " 'Loss/localization_loss': 0.41022584,\n",
            " 'Loss/regularization_loss': 33.363766,\n",
            " 'Loss/total_loss': 34.474,\n",
            " 'learning_rate': 0.03066655}\n",
            "INFO:tensorflow:Step 1400 per-step time 0.788s\n",
            "I0702 04:41:09.082545 140554828924800 model_lib_v2.py:707] Step 1400 per-step time 0.788s\n",
            "INFO:tensorflow:{'Loss/classification_loss': 0.773373,\n",
            " 'Loss/localization_loss': 0.58843994,\n",
            " 'Loss/regularization_loss': 32.542397,\n",
            " 'Loss/total_loss': 33.90421,\n",
            " 'learning_rate': 0.0319999}\n",
            "I0702 04:41:09.082897 140554828924800 model_lib_v2.py:708] {'Loss/classification_loss': 0.773373,\n",
            " 'Loss/localization_loss': 0.58843994,\n",
            " 'Loss/regularization_loss': 32.542397,\n",
            " 'Loss/total_loss': 33.90421,\n",
            " 'learning_rate': 0.0319999}\n",
            "INFO:tensorflow:Step 1500 per-step time 0.787s\n",
            "I0702 04:42:27.799604 140554828924800 model_lib_v2.py:707] Step 1500 per-step time 0.787s\n",
            "INFO:tensorflow:{'Loss/classification_loss': 0.76846385,\n",
            " 'Loss/localization_loss': 0.44458893,\n",
            " 'Loss/regularization_loss': 31.70776,\n",
            " 'Loss/total_loss': 32.920815,\n",
            " 'learning_rate': 0.03333325}\n",
            "I0702 04:42:27.799946 140554828924800 model_lib_v2.py:708] {'Loss/classification_loss': 0.76846385,\n",
            " 'Loss/localization_loss': 0.44458893,\n",
            " 'Loss/regularization_loss': 31.70776,\n",
            " 'Loss/total_loss': 32.920815,\n",
            " 'learning_rate': 0.03333325}\n",
            "INFO:tensorflow:Step 1600 per-step time 0.789s\n",
            "I0702 04:43:46.658526 140554828924800 model_lib_v2.py:707] Step 1600 per-step time 0.789s\n",
            "INFO:tensorflow:{'Loss/classification_loss': 0.8389835,\n",
            " 'Loss/localization_loss': 0.4170837,\n",
            " 'Loss/regularization_loss': 30.862095,\n",
            " 'Loss/total_loss': 32.11816,\n",
            " 'learning_rate': 0.034666598}\n",
            "I0702 04:43:46.658944 140554828924800 model_lib_v2.py:708] {'Loss/classification_loss': 0.8389835,\n",
            " 'Loss/localization_loss': 0.4170837,\n",
            " 'Loss/regularization_loss': 30.862095,\n",
            " 'Loss/total_loss': 32.11816,\n",
            " 'learning_rate': 0.034666598}\n",
            "INFO:tensorflow:Step 1700 per-step time 0.788s\n",
            "I0702 04:45:05.445703 140554828924800 model_lib_v2.py:707] Step 1700 per-step time 0.788s\n",
            "INFO:tensorflow:{'Loss/classification_loss': 0.7512728,\n",
            " 'Loss/localization_loss': 0.4158908,\n",
            " 'Loss/regularization_loss': 30.00744,\n",
            " 'Loss/total_loss': 31.174604,\n",
            " 'learning_rate': 0.03599995}\n",
            "I0702 04:45:05.446038 140554828924800 model_lib_v2.py:708] {'Loss/classification_loss': 0.7512728,\n",
            " 'Loss/localization_loss': 0.4158908,\n",
            " 'Loss/regularization_loss': 30.00744,\n",
            " 'Loss/total_loss': 31.174604,\n",
            " 'learning_rate': 0.03599995}\n",
            "INFO:tensorflow:Step 1800 per-step time 0.789s\n",
            "I0702 04:46:24.351328 140554828924800 model_lib_v2.py:707] Step 1800 per-step time 0.789s\n",
            "INFO:tensorflow:{'Loss/classification_loss': 0.75813574,\n",
            " 'Loss/localization_loss': 0.45567587,\n",
            " 'Loss/regularization_loss': 29.14503,\n",
            " 'Loss/total_loss': 30.35884,\n",
            " 'learning_rate': 0.037333302}\n",
            "I0702 04:46:24.351661 140554828924800 model_lib_v2.py:708] {'Loss/classification_loss': 0.75813574,\n",
            " 'Loss/localization_loss': 0.45567587,\n",
            " 'Loss/regularization_loss': 29.14503,\n",
            " 'Loss/total_loss': 30.35884,\n",
            " 'learning_rate': 0.037333302}\n",
            "INFO:tensorflow:Step 1900 per-step time 0.788s\n",
            "I0702 04:47:43.183184 140554828924800 model_lib_v2.py:707] Step 1900 per-step time 0.788s\n",
            "INFO:tensorflow:{'Loss/classification_loss': 0.5989898,\n",
            " 'Loss/localization_loss': 0.35783005,\n",
            " 'Loss/regularization_loss': 28.277737,\n",
            " 'Loss/total_loss': 29.234556,\n",
            " 'learning_rate': 0.03866665}\n",
            "I0702 04:47:43.183497 140554828924800 model_lib_v2.py:708] {'Loss/classification_loss': 0.5989898,\n",
            " 'Loss/localization_loss': 0.35783005,\n",
            " 'Loss/regularization_loss': 28.277737,\n",
            " 'Loss/total_loss': 29.234556,\n",
            " 'learning_rate': 0.03866665}\n",
            "INFO:tensorflow:Step 2000 per-step time 0.787s\n",
            "I0702 04:49:01.840996 140554828924800 model_lib_v2.py:707] Step 2000 per-step time 0.787s\n",
            "INFO:tensorflow:{'Loss/classification_loss': 0.5999366,\n",
            " 'Loss/localization_loss': 0.46982282,\n",
            " 'Loss/regularization_loss': 27.406818,\n",
            " 'Loss/total_loss': 28.476578,\n",
            " 'learning_rate': 0.04}\n",
            "I0702 04:49:01.841317 140554828924800 model_lib_v2.py:708] {'Loss/classification_loss': 0.5999366,\n",
            " 'Loss/localization_loss': 0.46982282,\n",
            " 'Loss/regularization_loss': 27.406818,\n",
            " 'Loss/total_loss': 28.476578,\n",
            " 'learning_rate': 0.04}\n",
            "INFO:tensorflow:Step 2100 per-step time 0.821s\n",
            "I0702 04:50:23.937674 140554828924800 model_lib_v2.py:707] Step 2100 per-step time 0.821s\n",
            "INFO:tensorflow:{'Loss/classification_loss': 0.9246673,\n",
            " 'Loss/localization_loss': 0.4197693,\n",
            " 'Loss/regularization_loss': 26.547009,\n",
            " 'Loss/total_loss': 27.891445,\n",
            " 'learning_rate': 0.039890435}\n",
            "I0702 04:50:23.938021 140554828924800 model_lib_v2.py:708] {'Loss/classification_loss': 0.9246673,\n",
            " 'Loss/localization_loss': 0.4197693,\n",
            " 'Loss/regularization_loss': 26.547009,\n",
            " 'Loss/total_loss': 27.891445,\n",
            " 'learning_rate': 0.039890435}\n",
            "INFO:tensorflow:Step 2200 per-step time 0.788s\n",
            "I0702 04:51:42.690409 140554828924800 model_lib_v2.py:707] Step 2200 per-step time 0.788s\n",
            "INFO:tensorflow:{'Loss/classification_loss': 0.73411727,\n",
            " 'Loss/localization_loss': 0.38259766,\n",
            " 'Loss/regularization_loss': 25.71879,\n",
            " 'Loss/total_loss': 26.835505,\n",
            " 'learning_rate': 0.03956295}\n",
            "I0702 04:51:42.690766 140554828924800 model_lib_v2.py:708] {'Loss/classification_loss': 0.73411727,\n",
            " 'Loss/localization_loss': 0.38259766,\n",
            " 'Loss/regularization_loss': 25.71879,\n",
            " 'Loss/total_loss': 26.835505,\n",
            " 'learning_rate': 0.03956295}\n",
            "INFO:tensorflow:Step 2300 per-step time 0.790s\n",
            "I0702 04:53:01.675834 140554828924800 model_lib_v2.py:707] Step 2300 per-step time 0.790s\n",
            "INFO:tensorflow:{'Loss/classification_loss': 0.74748987,\n",
            " 'Loss/localization_loss': 0.45926616,\n",
            " 'Loss/regularization_loss': 24.924257,\n",
            " 'Loss/total_loss': 26.131014,\n",
            " 'learning_rate': 0.039021127}\n",
            "I0702 04:53:01.676160 140554828924800 model_lib_v2.py:708] {'Loss/classification_loss': 0.74748987,\n",
            " 'Loss/localization_loss': 0.45926616,\n",
            " 'Loss/regularization_loss': 24.924257,\n",
            " 'Loss/total_loss': 26.131014,\n",
            " 'learning_rate': 0.039021127}\n",
            "INFO:tensorflow:Step 2400 per-step time 0.789s\n",
            "I0702 04:54:20.535592 140554828924800 model_lib_v2.py:707] Step 2400 per-step time 0.789s\n",
            "INFO:tensorflow:{'Loss/classification_loss': 0.6120419,\n",
            " 'Loss/localization_loss': 0.26610658,\n",
            " 'Loss/regularization_loss': 24.1664,\n",
            " 'Loss/total_loss': 25.04455,\n",
            " 'learning_rate': 0.03827091}\n",
            "I0702 04:54:20.535949 140554828924800 model_lib_v2.py:708] {'Loss/classification_loss': 0.6120419,\n",
            " 'Loss/localization_loss': 0.26610658,\n",
            " 'Loss/regularization_loss': 24.1664,\n",
            " 'Loss/total_loss': 25.04455,\n",
            " 'learning_rate': 0.03827091}\n",
            "INFO:tensorflow:Step 2500 per-step time 0.787s\n",
            "I0702 04:55:39.273446 140554828924800 model_lib_v2.py:707] Step 2500 per-step time 0.787s\n",
            "INFO:tensorflow:{'Loss/classification_loss': 0.58778316,\n",
            " 'Loss/localization_loss': 0.3153472,\n",
            " 'Loss/regularization_loss': 23.447304,\n",
            " 'Loss/total_loss': 24.350433,\n",
            " 'learning_rate': 0.03732051}\n",
            "I0702 04:55:39.273804 140554828924800 model_lib_v2.py:708] {'Loss/classification_loss': 0.58778316,\n",
            " 'Loss/localization_loss': 0.3153472,\n",
            " 'Loss/regularization_loss': 23.447304,\n",
            " 'Loss/total_loss': 24.350433,\n",
            " 'learning_rate': 0.03732051}\n",
            "INFO:tensorflow:Step 2600 per-step time 0.791s\n",
            "I0702 04:56:58.350822 140554828924800 model_lib_v2.py:707] Step 2600 per-step time 0.791s\n",
            "INFO:tensorflow:{'Loss/classification_loss': 0.44148186,\n",
            " 'Loss/localization_loss': 0.2753429,\n",
            " 'Loss/regularization_loss': 22.767937,\n",
            " 'Loss/total_loss': 23.484762,\n",
            " 'learning_rate': 0.03618034}\n",
            "I0702 04:56:58.351149 140554828924800 model_lib_v2.py:708] {'Loss/classification_loss': 0.44148186,\n",
            " 'Loss/localization_loss': 0.2753429,\n",
            " 'Loss/regularization_loss': 22.767937,\n",
            " 'Loss/total_loss': 23.484762,\n",
            " 'learning_rate': 0.03618034}\n",
            "INFO:tensorflow:Step 2700 per-step time 0.789s\n",
            "I0702 04:58:17.208549 140554828924800 model_lib_v2.py:707] Step 2700 per-step time 0.789s\n",
            "INFO:tensorflow:{'Loss/classification_loss': 0.47111705,\n",
            " 'Loss/localization_loss': 0.3536968,\n",
            " 'Loss/regularization_loss': 22.129797,\n",
            " 'Loss/total_loss': 22.95461,\n",
            " 'learning_rate': 0.034862895}\n",
            "I0702 04:58:17.208867 140554828924800 model_lib_v2.py:708] {'Loss/classification_loss': 0.47111705,\n",
            " 'Loss/localization_loss': 0.3536968,\n",
            " 'Loss/regularization_loss': 22.129797,\n",
            " 'Loss/total_loss': 22.95461,\n",
            " 'learning_rate': 0.034862895}\n",
            "INFO:tensorflow:Step 2800 per-step time 0.790s\n",
            "I0702 04:59:36.191445 140554828924800 model_lib_v2.py:707] Step 2800 per-step time 0.790s\n",
            "INFO:tensorflow:{'Loss/classification_loss': 0.49060634,\n",
            " 'Loss/localization_loss': 0.3447832,\n",
            " 'Loss/regularization_loss': 21.533222,\n",
            " 'Loss/total_loss': 22.368612,\n",
            " 'learning_rate': 0.03338261}\n",
            "I0702 04:59:36.191761 140554828924800 model_lib_v2.py:708] {'Loss/classification_loss': 0.49060634,\n",
            " 'Loss/localization_loss': 0.3447832,\n",
            " 'Loss/regularization_loss': 21.533222,\n",
            " 'Loss/total_loss': 22.368612,\n",
            " 'learning_rate': 0.03338261}\n",
            "INFO:tensorflow:Step 2900 per-step time 0.787s\n",
            "I0702 05:00:54.847885 140554828924800 model_lib_v2.py:707] Step 2900 per-step time 0.787s\n",
            "INFO:tensorflow:{'Loss/classification_loss': 0.3333845,\n",
            " 'Loss/localization_loss': 0.2079704,\n",
            " 'Loss/regularization_loss': 20.978765,\n",
            " 'Loss/total_loss': 21.52012,\n",
            " 'learning_rate': 0.031755704}\n",
            "I0702 05:00:54.848190 140554828924800 model_lib_v2.py:708] {'Loss/classification_loss': 0.3333845,\n",
            " 'Loss/localization_loss': 0.2079704,\n",
            " 'Loss/regularization_loss': 20.978765,\n",
            " 'Loss/total_loss': 21.52012,\n",
            " 'learning_rate': 0.031755704}\n",
            "INFO:tensorflow:Step 3000 per-step time 0.788s\n",
            "I0702 05:02:13.609891 140554828924800 model_lib_v2.py:707] Step 3000 per-step time 0.788s\n",
            "INFO:tensorflow:{'Loss/classification_loss': 0.4697108,\n",
            " 'Loss/localization_loss': 0.21369518,\n",
            " 'Loss/regularization_loss': 20.465933,\n",
            " 'Loss/total_loss': 21.14934,\n",
            " 'learning_rate': 0.03}\n",
            "I0702 05:02:13.610203 140554828924800 model_lib_v2.py:708] {'Loss/classification_loss': 0.4697108,\n",
            " 'Loss/localization_loss': 0.21369518,\n",
            " 'Loss/regularization_loss': 20.465933,\n",
            " 'Loss/total_loss': 21.14934,\n",
            " 'learning_rate': 0.03}\n",
            "INFO:tensorflow:Step 3100 per-step time 0.811s\n",
            "I0702 05:03:34.734249 140554828924800 model_lib_v2.py:707] Step 3100 per-step time 0.811s\n",
            "INFO:tensorflow:{'Loss/classification_loss': 0.3512577,\n",
            " 'Loss/localization_loss': 0.18221986,\n",
            " 'Loss/regularization_loss': 19.993944,\n",
            " 'Loss/total_loss': 20.527422,\n",
            " 'learning_rate': 0.028134732}\n",
            "I0702 05:03:34.734554 140554828924800 model_lib_v2.py:708] {'Loss/classification_loss': 0.3512577,\n",
            " 'Loss/localization_loss': 0.18221986,\n",
            " 'Loss/regularization_loss': 19.993944,\n",
            " 'Loss/total_loss': 20.527422,\n",
            " 'learning_rate': 0.028134732}\n",
            "INFO:tensorflow:Step 3200 per-step time 0.788s\n",
            "I0702 05:04:53.489116 140554828924800 model_lib_v2.py:707] Step 3200 per-step time 0.788s\n",
            "INFO:tensorflow:{'Loss/classification_loss': 0.3192362,\n",
            " 'Loss/localization_loss': 0.18641798,\n",
            " 'Loss/regularization_loss': 19.56267,\n",
            " 'Loss/total_loss': 20.068323,\n",
            " 'learning_rate': 0.026180338}\n",
            "I0702 05:04:53.489435 140554828924800 model_lib_v2.py:708] {'Loss/classification_loss': 0.3192362,\n",
            " 'Loss/localization_loss': 0.18641798,\n",
            " 'Loss/regularization_loss': 19.56267,\n",
            " 'Loss/total_loss': 20.068323,\n",
            " 'learning_rate': 0.026180338}\n",
            "INFO:tensorflow:Step 3300 per-step time 0.788s\n",
            "I0702 05:06:12.289432 140554828924800 model_lib_v2.py:707] Step 3300 per-step time 0.788s\n",
            "INFO:tensorflow:{'Loss/classification_loss': 0.35105085,\n",
            " 'Loss/localization_loss': 0.20306544,\n",
            " 'Loss/regularization_loss': 19.170946,\n",
            " 'Loss/total_loss': 19.725063,\n",
            " 'learning_rate': 0.024158232}\n",
            "I0702 05:06:12.289806 140554828924800 model_lib_v2.py:708] {'Loss/classification_loss': 0.35105085,\n",
            " 'Loss/localization_loss': 0.20306544,\n",
            " 'Loss/regularization_loss': 19.170946,\n",
            " 'Loss/total_loss': 19.725063,\n",
            " 'learning_rate': 0.024158232}\n",
            "INFO:tensorflow:Step 3400 per-step time 0.789s\n",
            "I0702 05:07:31.208438 140554828924800 model_lib_v2.py:707] Step 3400 per-step time 0.789s\n",
            "INFO:tensorflow:{'Loss/classification_loss': 0.30367866,\n",
            " 'Loss/localization_loss': 0.15004079,\n",
            " 'Loss/regularization_loss': 18.817516,\n",
            " 'Loss/total_loss': 19.271236,\n",
            " 'learning_rate': 0.022090567}\n",
            "I0702 05:07:31.208773 140554828924800 model_lib_v2.py:708] {'Loss/classification_loss': 0.30367866,\n",
            " 'Loss/localization_loss': 0.15004079,\n",
            " 'Loss/regularization_loss': 18.817516,\n",
            " 'Loss/total_loss': 19.271236,\n",
            " 'learning_rate': 0.022090567}\n",
            "INFO:tensorflow:Step 3500 per-step time 0.787s\n",
            "I0702 05:08:49.945001 140554828924800 model_lib_v2.py:707] Step 3500 per-step time 0.787s\n",
            "INFO:tensorflow:{'Loss/classification_loss': 0.28904477,\n",
            " 'Loss/localization_loss': 0.20976253,\n",
            " 'Loss/regularization_loss': 18.501259,\n",
            " 'Loss/total_loss': 19.000067,\n",
            " 'learning_rate': 0.019999998}\n",
            "I0702 05:08:49.945308 140554828924800 model_lib_v2.py:708] {'Loss/classification_loss': 0.28904477,\n",
            " 'Loss/localization_loss': 0.20976253,\n",
            " 'Loss/regularization_loss': 18.501259,\n",
            " 'Loss/total_loss': 19.000067,\n",
            " 'learning_rate': 0.019999998}\n",
            "INFO:tensorflow:Step 3600 per-step time 0.789s\n",
            "I0702 05:10:08.797540 140554828924800 model_lib_v2.py:707] Step 3600 per-step time 0.789s\n",
            "INFO:tensorflow:{'Loss/classification_loss': 0.34915164,\n",
            " 'Loss/localization_loss': 0.2034625,\n",
            " 'Loss/regularization_loss': 18.22054,\n",
            " 'Loss/total_loss': 18.773153,\n",
            " 'learning_rate': 0.01790943}\n",
            "I0702 05:10:08.797859 140554828924800 model_lib_v2.py:708] {'Loss/classification_loss': 0.34915164,\n",
            " 'Loss/localization_loss': 0.2034625,\n",
            " 'Loss/regularization_loss': 18.22054,\n",
            " 'Loss/total_loss': 18.773153,\n",
            " 'learning_rate': 0.01790943}\n",
            "INFO:tensorflow:Step 3700 per-step time 0.788s\n",
            "I0702 05:11:27.616786 140554828924800 model_lib_v2.py:707] Step 3700 per-step time 0.788s\n",
            "INFO:tensorflow:{'Loss/classification_loss': 0.28021994,\n",
            " 'Loss/localization_loss': 0.1532378,\n",
            " 'Loss/regularization_loss': 17.973991,\n",
            " 'Loss/total_loss': 18.40745,\n",
            " 'learning_rate': 0.015841765}\n",
            "I0702 05:11:27.617141 140554828924800 model_lib_v2.py:708] {'Loss/classification_loss': 0.28021994,\n",
            " 'Loss/localization_loss': 0.1532378,\n",
            " 'Loss/regularization_loss': 17.973991,\n",
            " 'Loss/total_loss': 18.40745,\n",
            " 'learning_rate': 0.015841765}\n",
            "INFO:tensorflow:Step 3800 per-step time 0.790s\n",
            "I0702 05:12:46.602559 140554828924800 model_lib_v2.py:707] Step 3800 per-step time 0.790s\n",
            "INFO:tensorflow:{'Loss/classification_loss': 0.29589805,\n",
            " 'Loss/localization_loss': 0.2095129,\n",
            " 'Loss/regularization_loss': 17.759735,\n",
            " 'Loss/total_loss': 18.265146,\n",
            " 'learning_rate': 0.013819661}\n",
            "I0702 05:12:46.602876 140554828924800 model_lib_v2.py:708] {'Loss/classification_loss': 0.29589805,\n",
            " 'Loss/localization_loss': 0.2095129,\n",
            " 'Loss/regularization_loss': 17.759735,\n",
            " 'Loss/total_loss': 18.265146,\n",
            " 'learning_rate': 0.013819661}\n",
            "INFO:tensorflow:Step 3900 per-step time 0.788s\n",
            "I0702 05:14:05.413392 140554828924800 model_lib_v2.py:707] Step 3900 per-step time 0.788s\n",
            "INFO:tensorflow:{'Loss/classification_loss': 0.36258405,\n",
            " 'Loss/localization_loss': 0.15886389,\n",
            " 'Loss/regularization_loss': 17.575914,\n",
            " 'Loss/total_loss': 18.097363,\n",
            " 'learning_rate': 0.011865267}\n",
            "I0702 05:14:05.413772 140554828924800 model_lib_v2.py:708] {'Loss/classification_loss': 0.36258405,\n",
            " 'Loss/localization_loss': 0.15886389,\n",
            " 'Loss/regularization_loss': 17.575914,\n",
            " 'Loss/total_loss': 18.097363,\n",
            " 'learning_rate': 0.011865267}\n",
            "INFO:tensorflow:Step 4000 per-step time 0.788s\n",
            "I0702 05:15:24.223078 140554828924800 model_lib_v2.py:707] Step 4000 per-step time 0.788s\n",
            "INFO:tensorflow:{'Loss/classification_loss': 0.2208278,\n",
            " 'Loss/localization_loss': 0.078956194,\n",
            " 'Loss/regularization_loss': 17.420702,\n",
            " 'Loss/total_loss': 17.720486,\n",
            " 'learning_rate': 0.009999999}\n",
            "I0702 05:15:24.223378 140554828924800 model_lib_v2.py:708] {'Loss/classification_loss': 0.2208278,\n",
            " 'Loss/localization_loss': 0.078956194,\n",
            " 'Loss/regularization_loss': 17.420702,\n",
            " 'Loss/total_loss': 17.720486,\n",
            " 'learning_rate': 0.009999999}\n",
            "INFO:tensorflow:Step 4100 per-step time 0.817s\n",
            "I0702 05:16:45.962594 140554828924800 model_lib_v2.py:707] Step 4100 per-step time 0.817s\n",
            "INFO:tensorflow:{'Loss/classification_loss': 0.22183974,\n",
            " 'Loss/localization_loss': 0.13391931,\n",
            " 'Loss/regularization_loss': 17.291943,\n",
            " 'Loss/total_loss': 17.647701,\n",
            " 'learning_rate': 0.008244295}\n",
            "I0702 05:16:45.962921 140554828924800 model_lib_v2.py:708] {'Loss/classification_loss': 0.22183974,\n",
            " 'Loss/localization_loss': 0.13391931,\n",
            " 'Loss/regularization_loss': 17.291943,\n",
            " 'Loss/total_loss': 17.647701,\n",
            " 'learning_rate': 0.008244295}\n",
            "INFO:tensorflow:Step 4200 per-step time 0.785s\n",
            "I0702 05:18:04.434412 140554828924800 model_lib_v2.py:707] Step 4200 per-step time 0.785s\n",
            "INFO:tensorflow:{'Loss/classification_loss': 0.42401052,\n",
            " 'Loss/localization_loss': 0.18917048,\n",
            " 'Loss/regularization_loss': 17.187449,\n",
            " 'Loss/total_loss': 17.800629,\n",
            " 'learning_rate': 0.0066173864}\n",
            "I0702 05:18:04.434761 140554828924800 model_lib_v2.py:708] {'Loss/classification_loss': 0.42401052,\n",
            " 'Loss/localization_loss': 0.18917048,\n",
            " 'Loss/regularization_loss': 17.187449,\n",
            " 'Loss/total_loss': 17.800629,\n",
            " 'learning_rate': 0.0066173864}\n",
            "INFO:tensorflow:Step 4300 per-step time 0.788s\n",
            "I0702 05:19:23.214513 140554828924800 model_lib_v2.py:707] Step 4300 per-step time 0.788s\n",
            "INFO:tensorflow:{'Loss/classification_loss': 0.34288555,\n",
            " 'Loss/localization_loss': 0.21614417,\n",
            " 'Loss/regularization_loss': 17.105003,\n",
            " 'Loss/total_loss': 17.664034,\n",
            " 'learning_rate': 0.0051371036}\n",
            "I0702 05:19:23.214863 140554828924800 model_lib_v2.py:708] {'Loss/classification_loss': 0.34288555,\n",
            " 'Loss/localization_loss': 0.21614417,\n",
            " 'Loss/regularization_loss': 17.105003,\n",
            " 'Loss/total_loss': 17.664034,\n",
            " 'learning_rate': 0.0051371036}\n",
            "INFO:tensorflow:Step 4400 per-step time 0.789s\n",
            "I0702 05:20:42.143649 140554828924800 model_lib_v2.py:707] Step 4400 per-step time 0.789s\n",
            "INFO:tensorflow:{'Loss/classification_loss': 0.38645333,\n",
            " 'Loss/localization_loss': 0.1036153,\n",
            " 'Loss/regularization_loss': 17.042212,\n",
            " 'Loss/total_loss': 17.53228,\n",
            " 'learning_rate': 0.0038196587}\n",
            "I0702 05:20:42.144039 140554828924800 model_lib_v2.py:708] {'Loss/classification_loss': 0.38645333,\n",
            " 'Loss/localization_loss': 0.1036153,\n",
            " 'Loss/regularization_loss': 17.042212,\n",
            " 'Loss/total_loss': 17.53228,\n",
            " 'learning_rate': 0.0038196587}\n",
            "INFO:tensorflow:Step 4500 per-step time 0.789s\n",
            "I0702 05:22:01.055664 140554828924800 model_lib_v2.py:707] Step 4500 per-step time 0.789s\n",
            "INFO:tensorflow:{'Loss/classification_loss': 0.31511408,\n",
            " 'Loss/localization_loss': 0.1814315,\n",
            " 'Loss/regularization_loss': 16.99658,\n",
            " 'Loss/total_loss': 17.493126,\n",
            " 'learning_rate': 0.0026794898}\n",
            "I0702 05:22:01.055996 140554828924800 model_lib_v2.py:708] {'Loss/classification_loss': 0.31511408,\n",
            " 'Loss/localization_loss': 0.1814315,\n",
            " 'Loss/regularization_loss': 16.99658,\n",
            " 'Loss/total_loss': 17.493126,\n",
            " 'learning_rate': 0.0026794898}\n",
            "INFO:tensorflow:Step 4600 per-step time 0.788s\n",
            "I0702 05:23:19.857974 140554828924800 model_lib_v2.py:707] Step 4600 per-step time 0.788s\n",
            "INFO:tensorflow:{'Loss/classification_loss': 0.28495377,\n",
            " 'Loss/localization_loss': 0.1608836,\n",
            " 'Loss/regularization_loss': 16.965511,\n",
            " 'Loss/total_loss': 17.411348,\n",
            " 'learning_rate': 0.0017290902}\n",
            "I0702 05:23:19.858288 140554828924800 model_lib_v2.py:708] {'Loss/classification_loss': 0.28495377,\n",
            " 'Loss/localization_loss': 0.1608836,\n",
            " 'Loss/regularization_loss': 16.965511,\n",
            " 'Loss/total_loss': 17.411348,\n",
            " 'learning_rate': 0.0017290902}\n",
            "INFO:tensorflow:Step 4700 per-step time 0.788s\n",
            "I0702 05:24:38.649836 140554828924800 model_lib_v2.py:707] Step 4700 per-step time 0.788s\n",
            "INFO:tensorflow:{'Loss/classification_loss': 0.22102936,\n",
            " 'Loss/localization_loss': 0.17319232,\n",
            " 'Loss/regularization_loss': 16.946299,\n",
            " 'Loss/total_loss': 17.34052,\n",
            " 'learning_rate': 0.000978868}\n",
            "I0702 05:24:38.650156 140554828924800 model_lib_v2.py:708] {'Loss/classification_loss': 0.22102936,\n",
            " 'Loss/localization_loss': 0.17319232,\n",
            " 'Loss/regularization_loss': 16.946299,\n",
            " 'Loss/total_loss': 17.34052,\n",
            " 'learning_rate': 0.000978868}\n",
            "INFO:tensorflow:Step 4800 per-step time 0.788s\n",
            "I0702 05:25:57.484178 140554828924800 model_lib_v2.py:707] Step 4800 per-step time 0.788s\n",
            "INFO:tensorflow:{'Loss/classification_loss': 0.14774117,\n",
            " 'Loss/localization_loss': 0.15265712,\n",
            " 'Loss/regularization_loss': 16.93615,\n",
            " 'Loss/total_loss': 17.236547,\n",
            " 'learning_rate': 0.00043704748}\n",
            "I0702 05:25:57.484473 140554828924800 model_lib_v2.py:708] {'Loss/classification_loss': 0.14774117,\n",
            " 'Loss/localization_loss': 0.15265712,\n",
            " 'Loss/regularization_loss': 16.93615,\n",
            " 'Loss/total_loss': 17.236547,\n",
            " 'learning_rate': 0.00043704748}\n",
            "INFO:tensorflow:Step 4900 per-step time 0.787s\n",
            "I0702 05:27:16.233847 140554828924800 model_lib_v2.py:707] Step 4900 per-step time 0.787s\n",
            "INFO:tensorflow:{'Loss/classification_loss': 0.27970344,\n",
            " 'Loss/localization_loss': 0.13752846,\n",
            " 'Loss/regularization_loss': 16.932198,\n",
            " 'Loss/total_loss': 17.34943,\n",
            " 'learning_rate': 0.00010956168}\n",
            "I0702 05:27:16.234167 140554828924800 model_lib_v2.py:708] {'Loss/classification_loss': 0.27970344,\n",
            " 'Loss/localization_loss': 0.13752846,\n",
            " 'Loss/regularization_loss': 16.932198,\n",
            " 'Loss/total_loss': 17.34943,\n",
            " 'learning_rate': 0.00010956168}\n",
            "INFO:tensorflow:Step 5000 per-step time 0.789s\n",
            "I0702 05:28:35.127371 140554828924800 model_lib_v2.py:707] Step 5000 per-step time 0.789s\n",
            "INFO:tensorflow:{'Loss/classification_loss': 0.30329335,\n",
            " 'Loss/localization_loss': 0.11988512,\n",
            " 'Loss/regularization_loss': 16.931524,\n",
            " 'Loss/total_loss': 17.354702,\n",
            " 'learning_rate': 0.0}\n",
            "I0702 05:28:35.127673 140554828924800 model_lib_v2.py:708] {'Loss/classification_loss': 0.30329335,\n",
            " 'Loss/localization_loss': 0.11988512,\n",
            " 'Loss/regularization_loss': 16.931524,\n",
            " 'Loss/total_loss': 17.354702,\n",
            " 'learning_rate': 0.0}\n"
          ]
        }
      ],
      "source": [
        "!python model_main_tf2.py --model_dir=/content/drive/MyDrive/training_demo/models/my_ssd_resnet101_v1_fpn --pipeline_config_path=/content/drive/MyDrive/training_demo/models/my_ssd_resnet101_v1_fpn/pipeline.config\n"
      ]
    },
    {
      "cell_type": "code",
      "source": [
        "cd /content/drive/MyDrive/training_demo"
      ],
      "metadata": {
        "colab": {
          "base_uri": "https://localhost:8080/"
        },
        "id": "PGBqaImQeMe6",
        "outputId": "cb8b4c60-7a58-4fef-ab80-0334db4d9b19"
      },
      "execution_count": null,
      "outputs": [
        {
          "output_type": "stream",
          "name": "stdout",
          "text": [
            "/content/drive/MyDrive/training_demo\n"
          ]
        }
      ]
    },
    {
      "cell_type": "code",
      "execution_count": null,
      "metadata": {
        "colab": {
          "base_uri": "https://localhost:8080/"
        },
        "id": "8X7rWYOfYjx5",
        "outputId": "2aee4b40-289b-4a59-803e-0e817160341a"
      },
      "outputs": [
        {
          "output_type": "stream",
          "name": "stdout",
          "text": [
            "2022-07-02 06:56:34.094941: E tensorflow/stream_executor/cuda/cuda_driver.cc:271] failed call to cuInit: CUDA_ERROR_NO_DEVICE: no CUDA-capable device is detected\n",
            "WARNING:tensorflow:From /usr/local/lib/python3.7/dist-packages/tensorflow/python/autograph/impl/api.py:458: calling map_fn_v2 (from tensorflow.python.ops.map_fn) with back_prop=False is deprecated and will be removed in a future version.\n",
            "Instructions for updating:\n",
            "back_prop=False is deprecated. Consider using tf.stop_gradient instead.\n",
            "Instead of:\n",
            "results = tf.map_fn(fn, elems, back_prop=False)\n",
            "Use:\n",
            "results = tf.nest.map_structure(tf.stop_gradient, tf.map_fn(fn, elems))\n",
            "W0702 06:56:35.975123 139807973267328 deprecation.py:628] From /usr/local/lib/python3.7/dist-packages/tensorflow/python/autograph/impl/api.py:458: calling map_fn_v2 (from tensorflow.python.ops.map_fn) with back_prop=False is deprecated and will be removed in a future version.\n",
            "Instructions for updating:\n",
            "back_prop=False is deprecated. Consider using tf.stop_gradient instead.\n",
            "Instead of:\n",
            "results = tf.map_fn(fn, elems, back_prop=False)\n",
            "Use:\n",
            "results = tf.nest.map_structure(tf.stop_gradient, tf.map_fn(fn, elems))\n",
            "WARNING:tensorflow:Skipping full serialization of Keras layer <object_detection.meta_architectures.ssd_meta_arch.SSDMetaArch object at 0x7f27147669d0>, because it is not built.\n",
            "W0702 06:57:06.964049 139807973267328 save_impl.py:72] Skipping full serialization of Keras layer <object_detection.meta_architectures.ssd_meta_arch.SSDMetaArch object at 0x7f27147669d0>, because it is not built.\n",
            "W0702 06:57:50.379193 139807973267328 save.py:238] Found untraced functions such as WeightSharedConvolutionalBoxPredictor_layer_call_fn, WeightSharedConvolutionalBoxPredictor_layer_call_and_return_conditional_losses, WeightSharedConvolutionalBoxHead_layer_call_fn, WeightSharedConvolutionalBoxHead_layer_call_and_return_conditional_losses, WeightSharedConvolutionalClassHead_layer_call_fn while saving (showing 5 of 329). These functions will not be directly callable after loading.\n",
            "INFO:tensorflow:Assets written to: /content/drive/MyDrive/training_demo/exported_models/my_model/saved_model/assets\n",
            "I0702 06:58:02.847667 139807973267328 builder_impl.py:780] Assets written to: /content/drive/MyDrive/training_demo/exported_models/my_model/saved_model/assets\n",
            "INFO:tensorflow:Writing pipeline config file to /content/drive/MyDrive/training_demo/exported_models/my_model/pipeline.config\n",
            "I0702 06:58:03.976110 139807973267328 config_util.py:254] Writing pipeline config file to /content/drive/MyDrive/training_demo/exported_models/my_model/pipeline.config\n"
          ]
        }
      ],
      "source": [
        "!python \\exporter_main_v2.py --input_type image_tensor --pipeline_config_path /content/drive/MyDrive/training_demo/models/my_ssd_resnet101_v1_fpn/pipeline.config --trained_checkpoint_dir /content/drive/MyDrive/training_demo/models/my_ssd_resnet101_v1_fpn --output_directory /content/drive/MyDrive/training_demo/exported_models/my_model\n"
      ]
    },
    {
      "cell_type": "code",
      "source": [
        ""
      ],
      "metadata": {
        "id": "FdMxIjhDu91Q"
      },
      "execution_count": null,
      "outputs": []
    },
    {
      "cell_type": "code",
      "execution_count": null,
      "metadata": {
        "colab": {
          "base_uri": "https://localhost:8080/"
        },
        "id": "ZFaj_iPJZ0j-",
        "outputId": "375f69b4-2556-4c30-85e5-427fcf64c3c9"
      },
      "outputs": [
        {
          "output_type": "stream",
          "name": "stdout",
          "text": [
            "Looking in indexes: https://pypi.org/simple, https://us-python.pkg.dev/colab-wheels/public/simple/\n",
            "Collecting opencv-python\n",
            "  Downloading opencv_python-4.6.0.66-cp36-abi3-manylinux_2_17_x86_64.manylinux2014_x86_64.whl (60.9 MB)\n",
            "\u001b[K     |████████████████████████████████| 60.9 MB 66 kB/s \n",
            "\u001b[?25hRequirement already satisfied: numpy>=1.14.5 in /usr/local/lib/python3.7/dist-packages (from opencv-python) (1.21.6)\n",
            "Installing collected packages: opencv-python\n",
            "\u001b[31mERROR: pip's dependency resolver does not currently take into account all the packages that are installed. This behaviour is the source of the following dependency conflicts.\n",
            "albumentations 0.1.12 requires imgaug<0.2.7,>=0.2.5, but you have imgaug 0.2.9 which is incompatible.\u001b[0m\n",
            "Successfully installed opencv-python-4.6.0.66\n"
          ]
        }
      ],
      "source": [
        "pip install opencv-python"
      ]
    },
    {
      "cell_type": "code",
      "execution_count": null,
      "metadata": {
        "id": "PDZf9ROut197",
        "colab": {
          "base_uri": "https://localhost:8080/"
        },
        "outputId": "7cd2493e-c721-411b-9a41-292e5f9967bf"
      },
      "outputs": [
        {
          "output_type": "stream",
          "name": "stdout",
          "text": [
            "  adding: content/training_demo/exported_models/my_model/ (stored 0%)\n",
            "  adding: content/training_demo/exported_models/my_model/pipeline.config (deflated 68%)\n",
            "  adding: content/training_demo/exported_models/my_model/saved_model/ (stored 0%)\n",
            "  adding: content/training_demo/exported_models/my_model/saved_model/saved_model.pb (deflated 93%)\n",
            "  adding: content/training_demo/exported_models/my_model/saved_model/variables/ (stored 0%)\n",
            "  adding: content/training_demo/exported_models/my_model/saved_model/variables/variables.data-00000-of-00001 (deflated 7%)\n",
            "  adding: content/training_demo/exported_models/my_model/saved_model/variables/variables.index (deflated 81%)\n",
            "  adding: content/training_demo/exported_models/my_model/saved_model/assets/ (stored 0%)\n",
            "  adding: content/training_demo/exported_models/my_model/checkpoint/ (stored 0%)\n",
            "  adding: content/training_demo/exported_models/my_model/checkpoint/ckpt-0.data-00000-of-00001 (deflated 7%)\n",
            "  adding: content/training_demo/exported_models/my_model/checkpoint/ckpt-0.index (deflated 82%)\n",
            "  adding: content/training_demo/exported_models/my_model/checkpoint/checkpoint (deflated 42%)\n"
          ]
        }
      ],
      "source": [
        "!zip -r /content/training_demo/exported_models/my_model.zip /content/training_demo/exported_models/my_model"
      ]
    },
    {
      "cell_type": "code",
      "execution_count": null,
      "metadata": {
        "colab": {
          "base_uri": "https://localhost:8080/",
          "height": 34
        },
        "id": "99gZPXjMZ-2u",
        "outputId": "16ea383d-5dc2-4ed0-9358-e13e0358e710"
      },
      "outputs": [
        {
          "output_type": "display_data",
          "data": {
            "text/plain": [
              "<IPython.core.display.Javascript object>"
            ],
            "application/javascript": [
              "\n",
              "    async function download(id, filename, size) {\n",
              "      if (!google.colab.kernel.accessAllowed) {\n",
              "        return;\n",
              "      }\n",
              "      const div = document.createElement('div');\n",
              "      const label = document.createElement('label');\n",
              "      label.textContent = `Downloading \"${filename}\": `;\n",
              "      div.appendChild(label);\n",
              "      const progress = document.createElement('progress');\n",
              "      progress.max = size;\n",
              "      div.appendChild(progress);\n",
              "      document.body.appendChild(div);\n",
              "\n",
              "      const buffers = [];\n",
              "      let downloaded = 0;\n",
              "\n",
              "      const channel = await google.colab.kernel.comms.open(id);\n",
              "      // Send a message to notify the kernel that we're ready.\n",
              "      channel.send({})\n",
              "\n",
              "      for await (const message of channel.messages) {\n",
              "        // Send a message to notify the kernel that we're ready.\n",
              "        channel.send({})\n",
              "        if (message.buffers) {\n",
              "          for (const buffer of message.buffers) {\n",
              "            buffers.push(buffer);\n",
              "            downloaded += buffer.byteLength;\n",
              "            progress.value = downloaded;\n",
              "          }\n",
              "        }\n",
              "      }\n",
              "      const blob = new Blob(buffers, {type: 'application/binary'});\n",
              "      const a = document.createElement('a');\n",
              "      a.href = window.URL.createObjectURL(blob);\n",
              "      a.download = filename;\n",
              "      div.appendChild(a);\n",
              "      a.click();\n",
              "      div.remove();\n",
              "    }\n",
              "  "
            ]
          },
          "metadata": {}
        },
        {
          "output_type": "display_data",
          "data": {
            "text/plain": [
              "<IPython.core.display.Javascript object>"
            ],
            "application/javascript": [
              "download(\"download_1e2f3423-d335-4552-9be9-bf52dce3e79d\", \"my_model.zip\", 377998194)"
            ]
          },
          "metadata": {}
        }
      ],
      "source": [
        "from google.colab import files\n",
        "files.download(\"/content/training_demo/exported_models/my_model.zip\")"
      ]
    },
    {
      "cell_type": "code",
      "source": [
        "from google.colab import drive\n",
        "drive.mount('/content/drive')"
      ],
      "metadata": {
        "id": "gi6NZHmeZ-zb"
      },
      "execution_count": null,
      "outputs": []
    },
    {
      "cell_type": "code",
      "source": [
        "cd /content/drive/MyDrive/training_demo"
      ],
      "metadata": {
        "colab": {
          "base_uri": "https://localhost:8080/"
        },
        "id": "GtuHdja5u-1R",
        "outputId": "5f163282-9819-44da-f923-1a8fb3c5a5f2"
      },
      "execution_count": null,
      "outputs": [
        {
          "output_type": "stream",
          "name": "stdout",
          "text": [
            "/content/drive/MyDrive/training_demo\n"
          ]
        }
      ]
    },
    {
      "cell_type": "code",
      "source": [
        "import time\n",
        "import tensorflow as tf\n",
        "from object_detection.utils import label_map_util\n",
        "from object_detection.utils import visualization_utils as viz_utils\n",
        "\n",
        "\n",
        "PATH_TO_SAVED_MODEL = \"/content/drive/MyDrive/training_demo/exported_models/my_model/saved_model\"\n",
        "\n",
        "print('Loading model...', end='')\n",
        "start_time = time.time()\n",
        "\n",
        "# Load saved model and build the detection function\n",
        "detect_fn = tf.saved_model.load(PATH_TO_SAVED_MODEL)\n",
        "\n",
        "end_time = time.time()\n",
        "elapsed_time = end_time - start_time\n",
        "print('Done! Took {} seconds'.format(elapsed_time))\n",
        "\n",
        "category_index = label_map_util.create_category_index_from_labelmap(\"/content/drive/MyDrive/training_demo/annotations/label_map.pbtxt\",\n",
        "                                                                    use_display_name=True)\n",
        "\n",
        "\n",
        "\n"
      ],
      "metadata": {
        "colab": {
          "base_uri": "https://localhost:8080/"
        },
        "id": "tUu-_NnoxU9i",
        "outputId": "6968d9a5-0a72-496a-bd6c-1c0839d00009"
      },
      "execution_count": null,
      "outputs": [
        {
          "output_type": "stream",
          "name": "stdout",
          "text": [
            "Loading model...Done! Took 26.398601770401 seconds\n"
          ]
        }
      ]
    },
    {
      "cell_type": "code",
      "source": [
        "import pathlib\n",
        "import numpy as np\n",
        "import tensorflow as tf\n",
        "from PIL import Image\n",
        "import matplotlib.pyplot as plt\n",
        "import warnings\n",
        "from google.colab.patches import cv2_imshow\n",
        "warnings.filterwarnings('ignore')   # Suppress Matplotlib warnings\n",
        "\n",
        "def download_images():\n",
        "    base_url = 'https://drive.google.com/file/d/1V5Jr5E-CXmWRszVfsUARjaSoeqDeblxX/view?usp=sharing/'\n",
        "    filenames = ['download(1).jpg']\n",
        "\n",
        "    image_paths = []\n",
        "    for filename in filenames:\n",
        "        image_path = '/content/drive/MyDrive/training_demo/download.jpg'\n",
        "        image_path = pathlib.Path(image_path)\n",
        "        image_paths.append(str(image_path))\n",
        "    return image_paths\n",
        "\n",
        "\n",
        "IMAGE_PATHS = download_images()\n",
        "\n",
        "\n",
        "\n",
        "def load_image_into_numpy_array(path):\n",
        "    \"\"\"Load an image from file into a numpy array.\n",
        "\n",
        "    Puts image into numpy array to feed into tensorflow graph.\n",
        "    Note that by convention we put it into a numpy array with shape\n",
        "    (height, width, channels), where channels=3 for RGB.\n",
        "\n",
        "    Args:\n",
        "      path: the file path to the image\n",
        "\n",
        "    Returns:\n",
        "      uint8 numpy array with shape (img_height, img_width, 3)\n",
        "    \"\"\"\n",
        "    return np.array(Image.open(path))\n",
        "\n",
        "\n",
        "for image_path in IMAGE_PATHS:\n",
        "\n",
        "    print('Running inference for {}... '.format(image_path), end='')\n",
        "\n",
        "    image_np = load_image_into_numpy_array(image_path)\n",
        "\n",
        "    # Things to try:\n",
        "    # Flip horizontally\n",
        "    # image_np = np.fliplr(image_np).copy()\n",
        "\n",
        "    # Convert image to grayscale\n",
        "    # image_np = np.tile(\n",
        "    #     np.mean(image_np, 2, keepdims=True), (1, 1, 3)).astype(np.uint8)\n",
        "\n",
        "    # The input needs to be a tensor, convert it using `tf.convert_to_tensor`.\n",
        "    input_tensor = tf.convert_to_tensor(image_np)\n",
        "    # The model expects a batch of images, so add an axis with `tf.newaxis`.\n",
        "    input_tensor = input_tensor[tf.newaxis, ...]\n",
        "\n",
        "    # input_tensor = np.expand_dims(image_np, 0)\n",
        "    detections = detect_fn(input_tensor)\n",
        "\n",
        "    # All outputs are batches tensors.\n",
        "    # Convert to numpy arrays, and take index [0] to remove the batch dimension.\n",
        "    # We're only interested in the first num_detections.\n",
        "    num_detections = int(detections.pop('num_detections'))\n",
        "    detections = {key: value[0, :num_detections].numpy()\n",
        "                   for key, value in detections.items()}\n",
        "    detections['num_detections'] = num_detections\n",
        "\n",
        "    # detection_classes should be ints.\n",
        "    detections['detection_classes'] = detections['detection_classes'].astype(np.int64)\n",
        "\n",
        "    image_np_with_detections = image_np.copy()\n",
        "\n",
        "    viz_utils.visualize_boxes_and_labels_on_image_array(\n",
        "          image_np_with_detections,\n",
        "          detections['detection_boxes'],\n",
        "          detections['detection_classes'],\n",
        "          detections['detection_scores'],\n",
        "          category_index,\n",
        "          use_normalized_coordinates=True,\n",
        "          max_boxes_to_draw=200,\n",
        "          min_score_thresh=.30,\n",
        "          agnostic_mode=False)\n",
        "\n",
        "    plt.figure()\n",
        "    cv2_imshow(image_np_with_detections)\n",
        "    print('Done')\n",
        "plt.show()\n",
        "\n",
        "# sphinx_gallery_thumbnail_number = 2"
      ],
      "metadata": {
        "colab": {
          "base_uri": "https://localhost:8080/",
          "height": 215
        },
        "id": "Nmvacw8v1eSr",
        "outputId": "2e0d0d06-196a-49b8-992c-fa67a037bafa"
      },
      "execution_count": null,
      "outputs": [
        {
          "output_type": "stream",
          "name": "stdout",
          "text": [
            "Running inference for /content/drive/MyDrive/training_demo/download.jpg... "
          ]
        },
        {
          "output_type": "display_data",
          "data": {
            "text/plain": [
              "<PIL.Image.Image image mode=RGB size=312x162 at 0x7F6A885371D0>"
            ],
            "image/png": "[encoded data removed]"
          },
          "metadata": {}
        },
        {
          "output_type": "stream",
          "name": "stdout",
          "text": [
            "Done\n"
          ]
        }
      ]
    },
    {
      "cell_type": "code",
      "source": [
        ""
      ],
      "metadata": {
        "id": "z_vp5gabxbP8"
      },
      "execution_count": null,
      "outputs": []
    },
    {
      "cell_type": "code",
      "source": [
        ""
      ],
      "metadata": {
        "id": "S2b-dW2Z46eD"
      },
      "execution_count": null,
      "outputs": []
    }
  ],
  "metadata": {
    "accelerator": "GPU",
    "colab": {
      "collapsed_sections": [],
      "name": "custom object detection.ipynb",
      "provenance": [],
      "mount_file_id": "1Yo9-tV1o-BpOHhw0kVXsgNutHFd-pRvp",
      "authorship_tag": "ABX9TyO1fudn6rv+0Ut8atkTGu3b",
      "include_colab_link": true
    },
    "gpuClass": "standard",
    "kernelspec": {
      "display_name": "Python 3",
      "name": "python3"
    },
    "language_info": {
      "name": "python"
    }
  },
  "nbformat": 4,
  "nbformat_minor": 0
}